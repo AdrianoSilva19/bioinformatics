{
 "cells": [
  {
   "cell_type": "code",
   "execution_count": 1,
   "id": "37ca4e6e-43d3-406f-85d9-cfda03e3c3b7",
   "metadata": {
    "tags": []
   },
   "outputs": [],
   "source": [
    "from math import pi"
   ]
  },
  {
   "cell_type": "code",
   "execution_count": 1,
   "id": "543f51c1-c6c2-41ae-970d-efea567fd6f9",
   "metadata": {},
   "outputs": [],
   "source": [
    "#classe superficie\n",
    "class superficie:\n",
    "    def __init__(self, largura, altura):\n",
    "        self.largura=largura\n",
    "        self.altura=altura\n",
    "        self.lista_fig=[]\n",
    "    \n",
    "    def contar_fig(self):\n",
    "        lista= len(self.lista_fig)\n",
    "        return lista\n",
    "       \n",
    "    def ponto_dentro_fig(self,lin,col, dim ): \n",
    "        (li,ci,lf,cf) = dim\n",
    "        if lin > li and lin < lf and col > ci and col < cf:\n",
    "            return True\n",
    "        else:\n",
    "            return False\n",
    "        \n",
    "    def ponto_dentro(self,l,c, dim ):\n",
    "        (li,ci,lf,cf) = dim\n",
    "        if l<li or l > lf or c<ci or c > cf:\n",
    "            return False\n",
    "        else:\n",
    "            return True\n",
    "    \n",
    "    def fig_dentro(self, figura, lin, col):\n",
    "        dim=(0,0,self.altura,self.largura)\n",
    "        if self.ponto_dentro(lin,col,dim) and self.ponto_dentro(lin+figura.altura,col,dim) and self.ponto_dentro(lin,col+figura.largura,dim) and self.ponto_dentro(lin+figura.altura,col+figura.largura,dim):\n",
    "            return True\n",
    "        return False\n",
    "    \n",
    "    def sobrepoe(self,figura,lin,col, fig):\n",
    "        dim=(fig.lin,fig.col,fig.lin+fig.altura,fig.col+fig.largura)\n",
    "        if self.ponto_dentro_fig(lin,col,dim) or self.ponto_dentro_fig(lin+figura.altura,col,dim) or self.ponto_dentro_fig(lin,col+figura.largura,dim) or self.ponto_dentro_fig(lin+figura.altura,col+figura.largura,dim):\n",
    "            return True\n",
    "        return False\n",
    "        \n",
    "    \n",
    "    def fig_nao_sobrepoe(self, figura, lin, col):\n",
    "        for fig in self.lista_fig:\n",
    "\n",
    "            if self.sobrepoe(figura,lin,col, fig):\n",
    "                return False #basta sobrepor a uma para sair\n",
    "        return True #não sobrepoe a nenhuma\n",
    "                \n",
    "    \n",
    "    def colocar(self, figura, lin, col):\n",
    "        #validar se cai dentro da superficie\n",
    "        if self.fig_dentro(figura, lin, col): \n",
    "            resultado = True\n",
    "            if self.fig_nao_sobrepoe(figura, lin, col):\n",
    "                resultado= True\n",
    "                figura.lin=lin\n",
    "                figura.col=col\n",
    "                self.lista_fig.append(figura)\n",
    "            else:\n",
    "                resultado = False\n",
    "        else:\n",
    "            resultado =False\n",
    "        if resultado == True:\n",
    "            return 'Figura colocada com sucesso'\n",
    "        if resultado == False:\n",
    "            return 'Figura impossivel de colocar'\n",
    "    \n",
    "    def mover(self, figura, lin, col): # função retira a figura e volta a colocar com as novas coordenadas\n",
    "        self.lista_fig.remove(figura)\n",
    "        self.colocar(figura,lin,col)\n",
    "        return 'A figura indicada foi movida com sucesso'\n",
    "    \n",
    "    def sup_ocupacao(self):\n",
    "        soma=0\n",
    "        for fig in self.lista_fig:\n",
    "            soma+=fig.area()\n",
    "        return soma\n",
    "    \n",
    "    def area(self):\n",
    "        return self.largura*self.altura\n",
    "    \n",
    "    def colocar_auto(self, lista_figuras):\n",
    "        fig_colocadas=0\n",
    "        for fig in lista_figuras:\n",
    "            sucesso=False\n",
    "            for x in range(self.altura):\n",
    "                for y in range(self.largura):\n",
    "                    if self.colocar( fig, x, y):\n",
    "                        fig_colocadas+=1\n",
    "                        sucesso=True\n",
    "                        break\n",
    "                if sucesso:\n",
    "                    break\n",
    "        return fig_colocadas"
   ]
  },
  {
   "cell_type": "code",
   "execution_count": 6,
   "id": "3d5e386e-833b-42a6-8693-7a57dc43f584",
   "metadata": {},
   "outputs": [],
   "source": [
    "#classe rectangulo\n",
    "class rectangulo:\n",
    "    def __init__(self, largura, altura):\n",
    "        self.largura=largura\n",
    "        self.altura=altura\n",
    "        self.lin=-1\n",
    "        self.col=-1\n",
    "        \n",
    "    def medidas(self):\n",
    "        print(f\"A altura da figura é {self.altura} e a largura é {self.largura}\")\n",
    "    \n",
    "    def rodar(self):\n",
    "        temp=self.largura\n",
    "        self.largura=self.altura\n",
    "        self.altura=temp\n",
    "        \n",
    "    def area(self):\n",
    "        return self.largura*self.altura"
   ]
  },
  {
   "cell_type": "code",
   "execution_count": 7,
   "id": "d01e750a-9e47-4fcc-8086-263e15c172aa",
   "metadata": {},
   "outputs": [],
   "source": [
    "from math import pi\n",
    "#classe circulo\n",
    "class circulo:\n",
    "    def __init__(self, diametro):\n",
    "        self.largura=diametro\n",
    "        self.altura=diametro\n",
    "        self.raio=diametro/2\n",
    "        self.lin=-1\n",
    "        self.col=-1\n",
    "    \n",
    "    def area(self):\n",
    "        return pi * (self.raio**2)"
   ]
  },
  {
   "cell_type": "code",
   "execution_count": 10,
   "id": "417ccd48-75b5-425e-9d6e-7d0b6d1c0be4",
   "metadata": {},
   "outputs": [],
   "source": [
    "def teste():\n",
    "    sup = superficie(largura=500, altura=1000)\n",
    "    R1 = rectangulo(largura=100, altura=100)\n",
    "    #R1 = figura(tipo='R',largura=100, altura=100)\n",
    "    R2 = rectangulo(largura=100, altura=200)\n",
    "    R3 = rectangulo(largura=50, altura=100)\n",
    "    R4 = rectangulo(largura=400, altura=400)\n",
    "    R5 = rectangulo(largura=200, altura=200)\n",
    "    C1 = circulo(diametro=100)\n",
    "    C2 = circulo(diametro=100)\n",
    "    C3 = circulo(diametro=100)\n",
    "    C4 = circulo(diametro=50)\n",
    "    print(sup.colocar(R1, lin=10, col=10)) #vão ter de retornar se houve sucesso\n",
    "    print(sup.colocar(R2, lin=70, col=100)) #isto não deve ser possível\n",
    "    print(sup.mover(R1, lin=181, col=0))\n",
    "    print(sup.colocar(R2, lin=70, col=100)) #isto já deve ser possível\n",
    "    print(sup.sup_ocupacao()) #área da superfície coberta por figuras\n",
    "    figuras_retangulares=[R1,R2,R3,R4,R5]\n",
    "    figuras_circulares=[C1,C2,C3,C4]\n",
    "    figuras=figuras_retangulares+figuras_circulares\n",
    "    print(sup.colocar_auto(figuras))\n",
    "    print(sup.sup_ocupacao())\n",
    "    print(f\"a superficie sup tem de area: {sup.area()}\")\n",
    "    for fig in range(len(figuras_retangulares)):\n",
    "        print(f\"o rectangulo {fig+1} tem de area: {figuras_retangulares[fig].area()}\")\n",
    "    for fig in range(len(figuras_circulares)):\n",
    "        print(f\"o circulo {fig+1} tem de area: {figuras_circulares[fig].area():.2f}\")\n",
    "    \n",
    "    \n",
    "    "
   ]
  },
  {
   "cell_type": "code",
   "execution_count": 11,
   "id": "ee3ee9d1-4e1b-4e47-8e93-e56cbc7ab711",
   "metadata": {},
   "outputs": [
    {
     "name": "stdout",
     "output_type": "stream",
     "text": [
      "Figura colocada com sucesso\n",
      "Figura impossivel de colocar\n",
      "A figura indicada foi movida com sucesso\n",
      "Figura colocada com sucesso\n",
      "30000\n",
      "9\n",
      "220000\n",
      "a superficie sup tem de area: 500000\n",
      "o rectangulo 1 tem de area: 10000\n",
      "o rectangulo 2 tem de area: 20000\n",
      "o rectangulo 3 tem de area: 5000\n",
      "o rectangulo 4 tem de area: 160000\n",
      "o rectangulo 5 tem de area: 40000\n",
      "o circulo 1 tem de area: 7853.98\n",
      "o circulo 2 tem de area: 7853.98\n",
      "o circulo 3 tem de area: 7853.98\n",
      "o circulo 4 tem de area: 1963.50\n"
     ]
    }
   ],
   "source": [
    "#main\n",
    "teste()"
   ]
  },
  {
   "cell_type": "code",
   "execution_count": 15,
   "id": "3c1491c9-9d47-4105-845a-f28fb0f43f5a",
   "metadata": {},
   "outputs": [
    {
     "name": "stdout",
     "output_type": "stream",
     "text": [
      "260525.44000000003\n"
     ]
    }
   ],
   "source": [
    "a=10000+20000+5000+160000+40000+7853.98+7853.98+7853.98+1963.50\n",
    "print(a)"
   ]
  },
  {
   "cell_type": "code",
   "execution_count": null,
   "id": "9300a8dd-69b1-45f2-b977-c4eaa7b5b393",
   "metadata": {},
   "outputs": [],
   "source": []
  }
 ],
 "metadata": {
  "kernelspec": {
   "display_name": "Python 3",
   "language": "python",
   "name": "python3"
  },
  "language_info": {
   "codemirror_mode": {
    "name": "ipython",
    "version": 3
   },
   "file_extension": ".py",
   "mimetype": "text/x-python",
   "name": "python",
   "nbconvert_exporter": "python",
   "pygments_lexer": "ipython3",
   "version": "3.8.8"
  }
 },
 "nbformat": 4,
 "nbformat_minor": 5
}
