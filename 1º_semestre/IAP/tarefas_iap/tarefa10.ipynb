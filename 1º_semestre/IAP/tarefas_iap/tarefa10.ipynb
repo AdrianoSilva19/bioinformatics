{
 "cells": [
  {
   "cell_type": "markdown",
   "id": "d29d6005-f527-4742-abca-1b4d9ab2a0bd",
   "metadata": {},
   "source": [
    "# ficheiros em python\n"
   ]
  },
  {
   "cell_type": "code",
   "execution_count": 1,
   "id": "d5cf5782-f8a2-4c07-9c8c-c1b63bfd1d64",
   "metadata": {},
   "outputs": [
    {
     "name": "stdout",
     "output_type": "stream",
     "text": [
      "P\n",
      "atrÃ­cia Isabel Lopes Moreira\n",
      "Ana Rita Fernandes Marques\n",
      "Tiago Alexandre Pinto Alves\n",
      "AndrÃ© Miguel Portugal Abrantes Cruzeiro Santiago\n",
      "BÃ¡rbara Andreia Andrade Barbosa\n",
      "Bruno AndrÃ© Matos Veloso\n",
      "CÃ©sar Fernando Vivo Ferreira de Catarina\n",
      "Daniel Filipe Braga de Oliveira\n",
      "Jorge Miguel LourenÃ§o Ferreira\n",
      "Nuno Manuel Carneiro OsÃ³rio\n",
      "AndrÃ© Filipe Moura Alves dos Santos Ramos\n",
      "Pedro Noronha de Castro Machado Teixeira\n",
      "Raquel Dos Santos Silva\n",
      "CÃ©lia Cristina Ramos Borges Almeida\n"
     ]
    }
   ],
   "source": [
    "# Abertura de um ficheiro\n",
    "\n",
    "f=open(\"nomes.txt\",\"r\")      #abre o ficheiro com o nome 'test.txt'\n",
    "print(f.read(1))              \n",
    "print(f.read())"
   ]
  },
  {
   "cell_type": "markdown",
   "id": "9ae691cf-3401-4f37-a8c0-8c38ddfa71d1",
   "metadata": {},
   "source": [
    "# tirar acentos"
   ]
  },
  {
   "cell_type": "code",
   "execution_count": 2,
   "id": "f04d85ca-8ebb-4f26-9586-d4617037e261",
   "metadata": {},
   "outputs": [
    {
     "name": "stdout",
     "output_type": "stream",
     "text": [
      "P\n",
      "atrícia Isabel Lopes Moreira\n",
      "Ana Rita Fernandes Marques\n",
      "Tiago Alexandre Pinto Alves\n",
      "André Miguel Portugal Abrantes Cruzeiro Santiago\n",
      "Bárbara Andreia Andrade Barbosa\n",
      "Bruno André Matos Veloso\n",
      "César Fernando Vivo Ferreira de Catarina\n",
      "Daniel Filipe Braga de Oliveira\n",
      "Jorge Miguel Lourenço Ferreira\n",
      "Nuno Manuel Carneiro Osório\n",
      "André Filipe Moura Alves dos Santos Ramos\n",
      "Pedro Noronha de Castro Machado Teixeira\n",
      "Raquel Dos Santos Silva\n",
      "Célia Cristina Ramos Borges Almeida\n"
     ]
    }
   ],
   "source": [
    "f=open(\"nomes.txt\",\"r\", encoding='utf-8')      #abre o ficheiro com o nome 'test.txt'\n",
    "print(f.read(1))              \n",
    "print(f.read())"
   ]
  },
  {
   "cell_type": "markdown",
   "id": "de9990ea-7645-461d-9e27-8b7122ed5d00",
   "metadata": {},
   "source": [
    "O proprio ficheiro é iteravel (podemos listar)\n"
   ]
  },
  {
   "cell_type": "code",
   "execution_count": 3,
   "id": "0121d4d7-da9d-40ec-93b9-c312866e2538",
   "metadata": {},
   "outputs": [
    {
     "name": "stdout",
     "output_type": "stream",
     "text": [
      "Total de nomes:14\n",
      "['Patrícia Isabel Lopes Moreira\\n', 'Ana Rita Fernandes Marques\\n', 'Tiago Alexandre Pinto Alves\\n', 'André Miguel Portugal Abrantes Cruzeiro Santiago\\n', 'Bárbara Andreia Andrade Barbosa\\n', 'Bruno André Matos Veloso\\n', 'César Fernando Vivo Ferreira de Catarina\\n', 'Daniel Filipe Braga de Oliveira\\n', 'Jorge Miguel Lourenço Ferreira\\n', 'Nuno Manuel Carneiro Osório\\n', 'André Filipe Moura Alves dos Santos Ramos\\n', 'Pedro Noronha de Castro Machado Teixeira\\n', 'Raquel Dos Santos Silva\\n', 'Célia Cristina Ramos Borges Almeida']\n"
     ]
    }
   ],
   "source": [
    "f=open(\"nomes.txt\",\"r\", encoding='utf-8')      #abre o ficheiro com o nome 'test.txt'\n",
    "mylist=[]\n",
    "for line in f:\n",
    "    mylist.append(line)\n",
    "print(f'Total de nomes:{len(mylist)}')\n",
    "print(mylist)"
   ]
  },
  {
   "cell_type": "code",
   "execution_count": 4,
   "id": "139b2876-07f8-4303-bd54-3c7369176673",
   "metadata": {},
   "outputs": [
    {
     "name": "stdout",
     "output_type": "stream",
     "text": [
      "['Patrícia Isabel Lopes Moreira\\n', 'Ana Rita Fernandes Marques\\n', 'Tiago Alexandre Pinto Alves\\n', 'André Miguel Portugal Abrantes Cruzeiro Santiago\\n', 'Bárbara Andreia Andrade Barbosa\\n', 'Bruno André Matos Veloso\\n', 'César Fernando Vivo Ferreira de Catarina\\n', 'Daniel Filipe Braga de Oliveira\\n', 'Jorge Miguel Lourenço Ferreira\\n', 'Nuno Manuel Carneiro Osório\\n', 'André Filipe Moura Alves dos Santos Ramos\\n', 'Pedro Noronha de Castro Machado Teixeira\\n', 'Raquel Dos Santos Silva\\n', 'Célia Cristina Ramos Borges Almeida']\n",
      "o texto foi corretamente lido\n"
     ]
    }
   ],
   "source": [
    "try:\n",
    "    f=open(\"nomes.txt\",'r',encoding='utf-8')\n",
    "    mylist=[]\n",
    "    for line in f:\n",
    "        mylist.append(line)\n",
    "    print(mylist)\n",
    "except IOError as err:\n",
    "    print('Erro 1: na escrita/leitura do ficheiro\\n',err)\n",
    "except Exception as err:\n",
    "    print('Erro 2: outro erro qualquer\\n',err)\n",
    "else:\n",
    "    print('o texto foi corretamente lido')\n",
    "    f.close()\n",
    "    "
   ]
  },
  {
   "cell_type": "code",
   "execution_count": 5,
   "id": "37bbb2ef-e294-48e3-b169-c02b3429ed79",
   "metadata": {},
   "outputs": [],
   "source": [
    "f=open('test.txt','w')\n",
    "f.write('i am a test file.\\n')\n",
    "f.write('bola')\n",
    "f.close()"
   ]
  },
  {
   "cell_type": "markdown",
   "id": "8b9fa583-03f4-4ec4-bdbc-42b4b0bab1c0",
   "metadata": {},
   "source": [
    "se fizermos open com o 'a' ele da appende em vez de apagar e reescrever"
   ]
  },
  {
   "cell_type": "code",
   "execution_count": 6,
   "id": "322d8414-66bd-4707-9a97-b4020438a5ee",
   "metadata": {},
   "outputs": [],
   "source": [
    "\n",
    "#algoritmo generico da ordenação\n",
    "def ordenar(L):\n",
    "    for i in range (len(L)-1):\n",
    "        for j in range (i, len(L)):\n",
    "            if L[i] > L[j]:\n",
    "                t=L[i]\n",
    "                L[i]=L[j]\n",
    "                L[j]=t\n",
    "    return L\n",
    "\n",
    "def ler_nomes(fich):\n",
    "    try:\n",
    "        f=open(fich,'r',encoding='utf-8')\n",
    "        L=f.readlines()\n",
    "    except Exception as err:\n",
    "        print('Erro: na escrita/leitura do ficheiro',err)\n",
    "    else:\n",
    "        f.close()\n",
    "    return L\n",
    "        \n",
    "def escrever_nomes(fich,L):\n",
    "    try:\n",
    "        f=open(fich,'w',encoding='utf-8')\n",
    "        f.writelines(L)\n",
    "    except Exception as err:\n",
    "        print('Erro: na escrita/leitura do ficheiro',err)\n",
    "    else:\n",
    "        f.close()\n",
    "        \n",
    "def teste_ler_ordenar_ficheiro():\n",
    "    lista_nomes=ler_nomes('nomes.txt')\n",
    "    lista_nomes=ordenar(lista_nomes)\n",
    "    escrever_nomes('nomes_ord.txt',lista_nomes)\n",
    "teste_ler_ordenar_ficheiro()\n",
    "                \n"
   ]
  },
  {
   "cell_type": "markdown",
   "id": "afc43d16-63ad-4912-ad39-bb5b39146101",
   "metadata": {},
   "source": [
    "1- ler ficheiro nomes.txt em formato txt, procurar um nome, tem de ser o nome todo"
   ]
  },
  {
   "cell_type": "code",
   "execution_count": null,
   "id": "cb12f358-c991-416e-8275-acda52bf43d3",
   "metadata": {},
   "outputs": [],
   "source": [
    "def procura_binaria(lista, nome):\n",
    "    lim_inf = 0\n",
    "    lim_sup = len(lista) - 1\n",
    "    while True:\n",
    "        if lim_sup < lim_inf:\n",
    "            return -1 # Não encontrou o nome\n",
    "        pos = (lim_inf + lim_sup) // 2\n",
    "        t = lista[pos].strip() # Para retirar espaços e \\n\n",
    "        if t < nome:\n",
    "            lim_inf = pos + 1\n",
    "        elif t > nome:\n",
    "            lim_sup = pos - 1\n",
    "        else:\n",
    "            return pos\n",
    "\n",
    "def teste_procura_nome():\n",
    "    lista_nomes = ler_nomes(\"nomes.txt\")\n",
    "    for nome in lista_nomes:\n",
    "        print(nome, end = '')\n",
    "    lista_nomes_ord = ordenar(lista_nomes)\n",
    "    while True:\n",
    "        np = input(\"nome a procurar (enter para desistir):\")\n",
    "        if np == '':\n",
    "            break\n",
    "        p = procura_binaria(lista_nomes_ord, np)\n",
    "        if p == -1:\n",
    "            print(f\"{np} não foi encontrado na lista de nomes!\")\n",
    "        else:\n",
    "            print(f\"{np} foi encontrado na lista de nomes na posição {p}\")\n",
    "\n",
    "teste_procura_nome()"
   ]
  },
  {
   "cell_type": "markdown",
   "id": "4fad168f-2beb-4f03-b2bf-053bc3395543",
   "metadata": {},
   "source": [
    "2- ler o ficheiro e criar um ficheiro com as ocorrencias de cada palavra"
   ]
  },
  {
   "cell_type": "code",
   "execution_count": null,
   "id": "7c37b570-6aec-46ec-9bc7-cc9939b4c095",
   "metadata": {},
   "outputs": [],
   "source": [
    "def ocorrencias():\n",
    "    file_input = open(\"programacao.txt\",\"r\", encoding='utf-8')\n",
    "    data = file_input.read()\n",
    "    data = data.replace(\",\", \"\")\n",
    "    data = data.replace(\".\", \"\")\n",
    "    data = data.replace(\"(\", \"\")\n",
    "    data = data.replace(\")\", \"\")\n",
    "    data = data.replace(\"?\", \"\")\n",
    "    data = data.replace(\":\", \"\")\n",
    "    data = data.replace(\";\", \"\")\n",
    "    data = data.replace(\"1\", \"\")\n",
    "    data = data.replace(\"«\", \"\")\n",
    "    data = data.replace(\"»\", \"\")\n",
    "    data = data.replace(\"-\", \"\")\n",
    "    data = data.replace(\"+\", \"\")\n",
    "    file_output = open(\"programacao_limpo.txt\",\"w\", encoding='utf-8')\n",
    "    file_output.write(data.lower())\n",
    "    file_output2 = open(\"contagem.txt\",\"w\", encoding='utf-8') # criar ficheiro contagem, que é o sítio onde vou pôr as palavras todas e quantas ocorrências tem\n",
    "    count = {} # criar dicionário vazio onde vou colocar as palavras e contá-las\n",
    "    for palavra in open(\"programacao_limpo.txt\", encoding='utf-8').read().split(): # leio o ficheiro todo, faço o split e vou ver para cada palavra num split\n",
    "        if palavra in count: # vou ver se a palavra está no dicionário.\n",
    "            count[palavra] += 1 # se ainda não estiver, vou somar +1 à contagem\n",
    "        else:\n",
    "            count[palavra] = 1 # senão, essa palavra passa a ter uma ocorrência porque já existe na lista\n",
    "    for word, times in count.items(): # vou percorrer o dicionário todo e para cada palavra e o nº de vezes que ela existe, vou construir uma string formatada\n",
    "        linha = f\"{word} : {times}\\n\" # string formatada\n",
    "        file_output2.write(linha) # vou escrever a linha de cima no ficheiro de contagem\n",
    "    file_output2.close()\n",
    "    file_input.close()\n",
    "\n",
    "ocorrencias()"
   ]
  },
  {
   "cell_type": "markdown",
   "id": "471b106e-8378-4a18-8f3b-665c1abc5544",
   "metadata": {},
   "source": [
    "# Recursividade\n"
   ]
  },
  {
   "cell_type": "code",
   "execution_count": null,
   "id": "61c4e95a-dd64-4c87-b07f-d5ddfabdeaa4",
   "metadata": {},
   "outputs": [],
   "source": []
  }
 ],
 "metadata": {
  "kernelspec": {
   "display_name": "Python 3",
   "language": "python",
   "name": "python3"
  },
  "language_info": {
   "codemirror_mode": {
    "name": "ipython",
    "version": 3
   },
   "file_extension": ".py",
   "mimetype": "text/x-python",
   "name": "python",
   "nbconvert_exporter": "python",
   "pygments_lexer": "ipython3",
   "version": "3.8.8"
  }
 },
 "nbformat": 4,
 "nbformat_minor": 5
}
