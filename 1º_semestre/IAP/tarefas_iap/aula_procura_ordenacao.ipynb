{
 "cells": [
  {
   "cell_type": "code",
   "execution_count": 19,
   "id": "b6140622-c398-41e5-9eb3-88a58dc92598",
   "metadata": {},
   "outputs": [],
   "source": [
    "# -*- coding: utf-8 -*-\n",
    "import time\n",
    "\n",
    "def imprime_lista(L):\n",
    "    print(L)"
   ]
  },
  {
   "cell_type": "code",
   "execution_count": 21,
   "id": "47fa03ff-03bc-48a6-95cc-60d374be77e2",
   "metadata": {},
   "outputs": [
    {
     "name": "stdin",
     "output_type": "stream",
     "text": [
      "número de elementos a ler para a lista: 10\n",
      "elemento 1: 1\n",
      "elemento 2: 2\n",
      "elemento 3: 2\n",
      "elemento 4: 3\n",
      "elemento 5: 5\n",
      "elemento 6: 5\n",
      "elemento 7: 6\n",
      "elemento 8: 7\n",
      "elemento 9: 8\n",
      "elemento 10: 9\n"
     ]
    },
    {
     "name": "stdout",
     "output_type": "stream",
     "text": [
      "['1', '2', '2', '3', '5', '5', '6', '7', '8', '9']\n"
     ]
    }
   ],
   "source": [
    "### 1\n",
    "#introduzir e ler lista\n",
    "def ler_lista(n):\n",
    "    lista=[]\n",
    "    for i in range(n):\n",
    "        x = input(\"elemento %d:\" % (i + 1))\n",
    "        lista.append(x)\n",
    "    return lista\n",
    "\n",
    "\n",
    "n = int(input(\"número de elementos a ler para a lista:\"))\n",
    "L = ler_lista(n)\n",
    "imprime_lista(L)"
   ]
  },
  {
   "cell_type": "code",
   "execution_count": 22,
   "id": "d14a745f-8768-48c5-91b9-f7e59d5dd5e7",
   "metadata": {},
   "outputs": [
    {
     "name": "stdin",
     "output_type": "stream",
     "text": [
      "Elemento a procurar: 4\n"
     ]
    },
    {
     "name": "stdout",
     "output_type": "stream",
     "text": [
      "4 não foi encontrado!\n",
      "--- Tempo gasto na procura (PSLNO): 6.223386764526367 segundos ---\n"
     ]
    }
   ],
   "source": [
    "#2\n",
    "# procura sequencial em lista não ordenada\n",
    "def procura_seq(LL, xx):\n",
    "    p = 0\n",
    "    while (LL[p] != xx):\n",
    "        p += 1\n",
    "        if p >= len(LL):\n",
    "            break\n",
    "    if p < len(LL):\n",
    "        return p\n",
    "    else:\n",
    "        return -1\n",
    "    \n",
    "def procuraSequencial(L):\n",
    "    n = len(L)\n",
    "    val = int(input(\"Valor a procurar: \"))\n",
    "    i=0\n",
    "    encontrado = False\n",
    "    while (not encontrado):\n",
    "        if (i>=n):\n",
    "            break;\n",
    "        elif (L[i]==val):\n",
    "            encontrado = True\n",
    "            break;\n",
    "        else:\n",
    "            i+=1\n",
    "    if encontrado:\n",
    "        print(\"Encontrado na posição %s\" % str(i+1))\n",
    "    else:\n",
    "        print(\"Não encontrado\")  \n",
    "\n",
    "def procuraSeq(lista):\n",
    "    x = int(input(\"Valor a procurar: \"))\n",
    "    n = len(lista)\n",
    "    i=0\n",
    "    while (i<=(n-1)):\n",
    "        if x==lista[i]:\n",
    "            print(\"Encontrado na posição %s\" % str(i+1))\n",
    "        i=i+1\n",
    "    print(\"Não encontrado.\")\n",
    "    \n",
    "def teste_procura_seq(lista):\n",
    "    x = input(\"Elemento a procurar:\")\n",
    "    pos = procura_seq(lista, x)\n",
    "    if pos != -1:\n",
    "        print(\"%s foi encontrado na posição %d\" % (x, pos))\n",
    "    else:\n",
    "        print(\"%s não foi encontrado!\" % (x))\n",
    "\n",
    "        \n",
    "start_time = time.time()\n",
    "teste_procura_seq(L)\n",
    "#procuraSequencial(L)\n",
    "#procuraSeq(L)\n",
    "print(f\"--- Tempo gasto na procura (PSLNO): {time.time() - start_time} segundos ---\")"
   ]
  },
  {
   "cell_type": "code",
   "execution_count": 23,
   "id": "b0d0c6fa-a8b8-4ccf-970f-296e511ced6b",
   "metadata": {},
   "outputs": [
    {
     "name": "stdin",
     "output_type": "stream",
     "text": [
      "Elemento a procurar: 5\n"
     ]
    },
    {
     "name": "stdout",
     "output_type": "stream",
     "text": [
      "5 foi encontrado na posição 4\n",
      "--- Tempo gasto na procura (PSLO): 5.752708435058594 segundos ---\n"
     ]
    }
   ],
   "source": [
    "#3\n",
    "# procura sequencial em lista ordenada crescente\n",
    "def procura_seq_ord(LL, xx):\n",
    "    p = 0\n",
    "    while (LL[p] < xx):\n",
    "        p += 1\n",
    "        if p >= len(LL):\n",
    "            break\n",
    "    if p >= len(LL):\n",
    "        return -1\n",
    "    elif LL[p] == xx:\n",
    "        return p\n",
    "    else:\n",
    "        return -1\n",
    "    \n",
    "def teste_procura_seq_ord(lista):\n",
    "    x = input(\"Elemento a procurar:\")\n",
    "    pos = procura_seq_ord(lista, x)\n",
    "    if pos != -1:\n",
    "        print(\"%s foi encontrado na posição %d\" % (x, pos))\n",
    "    else:\n",
    "        print(\"%s não foi encontrado!\" % (x))\n",
    "\n",
    "start_time = time.time()\n",
    "teste_procura_seq_ord(L)      \n",
    "print(f\"--- Tempo gasto na procura (PSLO): {time.time() - start_time} segundos ---\")"
   ]
  },
  {
   "cell_type": "code",
   "execution_count": 24,
   "id": "3eaeb7b8-fc52-4f5a-b3af-23df7806ad89",
   "metadata": {},
   "outputs": [
    {
     "name": "stdin",
     "output_type": "stream",
     "text": [
      "Elemento a procurar: 5\n"
     ]
    },
    {
     "name": "stdout",
     "output_type": "stream",
     "text": [
      "5 foi encontrado na posição 5\n",
      "--- Tempo gasto na procura (PBLO): 1.3360776901245117 segundos ---\n"
     ]
    }
   ],
   "source": [
    "#4\n",
    "# procura binária em lista ordenada crescente\n",
    "def procura_bin(LL, xx):\n",
    "    inf = 0\n",
    "    sup = len(LL) - 1\n",
    "    terminado = False\n",
    "    encontrado = False\n",
    "    while not terminado:\n",
    "        p = int(((sup - inf) + 1) / 2 + inf)\n",
    "        if LL[p] == xx:\n",
    "            terminado = True\n",
    "            encontrado = True\n",
    "        elif LL[p] < xx :\n",
    "            inf = p + 1\n",
    "        else:\n",
    "            sup = p - 1\n",
    "        if sup < inf:\n",
    "            terminado = True\n",
    "    if encontrado:\n",
    "        return p \n",
    "    else:\n",
    "        return -1\n",
    "    \n",
    "def teste_procura_bin(lista):\n",
    "    x = input(\"Elemento a procurar:\")\n",
    "    pos = procura_bin(lista, x)\n",
    "    if pos != -1:\n",
    "        print(\"%s foi encontrado na posição %d\" % (x, pos))\n",
    "    else:\n",
    "        print(\"%s não foi encontrado!\" % (x))\n",
    "\n",
    "            \n",
    "start_time = time.time()\n",
    "teste_procura_bin(L)    \n",
    "print(f\"--- Tempo gasto na procura (PBLO): {time.time() - start_time} segundos ---\")"
   ]
  },
  {
   "cell_type": "code",
   "execution_count": 26,
   "id": "923a6717-d257-4a58-9e93-7fb97d3af284",
   "metadata": {},
   "outputs": [
    {
     "name": "stdin",
     "output_type": "stream",
     "text": [
      "Elemento a procurar: 4\n"
     ]
    },
    {
     "name": "stdout",
     "output_type": "stream",
     "text": [
      "inf: 0 sup: 9 p: 5 LL[]: 5\n",
      "inf: 0 sup: 4 p: 2 LL[]: 2\n",
      "inf: 3 sup: 4 p: 4 LL[]: 5\n",
      "inf: 3 sup: 3 p: 3 LL[]: 3\n",
      "4 não foi encontrado!\n",
      "--- Tempo gasto na procura (PBLO): 1.1231250762939453 segundos ---\n"
     ]
    }
   ],
   "source": [
    "#outro exemplo\n",
    "def procura_bin2(LL, xx):\n",
    "    inf = 0\n",
    "    sup = len(LL) - 1\n",
    "    while inf <= sup:\n",
    "        p = ((sup - inf) + 1) // 2 + inf\n",
    "        print(\"inf:\", inf, \"sup:\", sup, \"p:\", p, \"LL[]:\", LL[p])\n",
    "        if LL[p] == xx:\n",
    "            print(\"inf:\", inf, \"sup:\", sup, \"p:\", p, \"LL[]:\", LL[p])\n",
    "            break\n",
    "        elif LL[p] < xx :\n",
    "            inf = p + 1\n",
    "        else:\n",
    "            sup = p - 1\n",
    "    if LL[p] == xx:\n",
    "        return p \n",
    "    else:\n",
    "        return -1\n",
    "    \n",
    "def teste_procura_bin2(lista):\n",
    "    x = input(\"Elemento a procurar:\")\n",
    "    pos = procura_bin2(lista, x)\n",
    "    if pos != -1:\n",
    "        print(\"%s foi encontrado na posição %d\" % (x, pos))\n",
    "    else:\n",
    "        print(\"%s não foi encontrado!\" % (x))\n",
    "        \n",
    "start_time = time.time()\n",
    "teste_procura_bin2(L)\n",
    "print(f\"--- Tempo gasto na procura (PBLO): {time.time() - start_time} segundos ---\")"
   ]
  },
  {
   "cell_type": "code",
   "execution_count": 10,
   "id": "803a39da-4a44-4c57-a7fe-e7b4a26fb697",
   "metadata": {},
   "outputs": [
    {
     "name": "stdout",
     "output_type": "stream",
     "text": [
      "['1', '2', '3', '4']\n",
      "--- Tempo gasto na ordenação (OTD): 0.0 segundos ---\n"
     ]
    }
   ],
   "source": [
    "#5\n",
    "def ordena(lista):\n",
    "    n = len(lista)\n",
    "    for i in range(n - 1):\n",
    "        for j in range(i + 1, n):\n",
    "            if lista[j] < lista[i]:\n",
    "                temp = lista[i]\n",
    "                lista[i] = lista[j]\n",
    "                lista[j] = temp\n",
    "                \n",
    "start_time = time.time()\n",
    "ordena(L)\n",
    "imprime_lista(L)\n",
    "print(f\"--- Tempo gasto na ordenação (OTD): {time.time() - start_time} segundos ---\")"
   ]
  },
  {
   "cell_type": "code",
   "execution_count": 11,
   "id": "a689711d-ddf4-4b73-9ff3-c5c66c0c1afd",
   "metadata": {},
   "outputs": [
    {
     "name": "stdout",
     "output_type": "stream",
     "text": [
      "\n",
      "        ======== Demo procura e ordenação ============\n",
      "        1.Leitura de elementos para a lista\n",
      "        2.Procura sequencial de um elemento em lista não ordenada\n",
      "        3.Procura sequencial de um elemento em lista ordenada\n",
      "        4a.Procura binária de um elemento em lista ordenada\n",
      "        4b.Procura binária de um elemento em lista ordenadas (outro exemplo)\n",
      "        5.Ordenação da lista utilizando o algoritmo das trocas diretas\n",
      "        6.Imprime lista\n",
      "        0.Sair\n",
      "        \n"
     ]
    },
    {
     "ename": "KeyboardInterrupt",
     "evalue": "Interrupted by user",
     "output_type": "error",
     "traceback": [
      "\u001b[1;31m---------------------------------------------------------------------------\u001b[0m",
      "\u001b[1;31mKeyboardInterrupt\u001b[0m                         Traceback (most recent call last)",
      "\u001b[1;32m<ipython-input-11-bef73ce966a8>\u001b[0m in \u001b[0;36m<module>\u001b[1;34m\u001b[0m\n\u001b[0;32m     57\u001b[0m     \u001b[0mprint\u001b[0m\u001b[1;33m(\u001b[0m\u001b[1;34m\"\\n Adeus\"\u001b[0m\u001b[1;33m)\u001b[0m\u001b[1;33m\u001b[0m\u001b[1;33m\u001b[0m\u001b[0m\n\u001b[0;32m     58\u001b[0m \u001b[1;33m\u001b[0m\u001b[0m\n\u001b[1;32m---> 59\u001b[1;33m \u001b[0mmenu\u001b[0m\u001b[1;33m(\u001b[0m\u001b[1;33m)\u001b[0m\u001b[1;33m\u001b[0m\u001b[1;33m\u001b[0m\u001b[0m\n\u001b[0m",
      "\u001b[1;32m<ipython-input-11-bef73ce966a8>\u001b[0m in \u001b[0;36mmenu\u001b[1;34m()\u001b[0m\n\u001b[0;32m     17\u001b[0m         \u001b[1;36m0.\u001b[0m\u001b[0mSair\u001b[0m\u001b[1;33m\u001b[0m\u001b[1;33m\u001b[0m\u001b[0m\n\u001b[0;32m     18\u001b[0m         \"\"\")\n\u001b[1;32m---> 19\u001b[1;33m         \u001b[0mop\u001b[0m \u001b[1;33m=\u001b[0m \u001b[0minput\u001b[0m\u001b[1;33m(\u001b[0m\u001b[1;34m\"Escolha uma opção: \"\u001b[0m\u001b[1;33m)\u001b[0m\u001b[1;33m\u001b[0m\u001b[1;33m\u001b[0m\u001b[0m\n\u001b[0m\u001b[0;32m     20\u001b[0m         \u001b[1;32mif\u001b[0m \u001b[0mop\u001b[0m \u001b[1;33m==\u001b[0m \u001b[1;34m\"1\"\u001b[0m\u001b[1;33m:\u001b[0m\u001b[1;33m\u001b[0m\u001b[1;33m\u001b[0m\u001b[0m\n\u001b[0;32m     21\u001b[0m             \u001b[0mn\u001b[0m \u001b[1;33m=\u001b[0m \u001b[0mint\u001b[0m\u001b[1;33m(\u001b[0m\u001b[0minput\u001b[0m\u001b[1;33m(\u001b[0m\u001b[1;34m\"número de elementos a ler para a lista:\"\u001b[0m\u001b[1;33m)\u001b[0m\u001b[1;33m)\u001b[0m\u001b[1;33m\u001b[0m\u001b[1;33m\u001b[0m\u001b[0m\n",
      "\u001b[1;32m~\\anaconda3\\lib\\site-packages\\ipykernel\\kernelbase.py\u001b[0m in \u001b[0;36mraw_input\u001b[1;34m(self, prompt)\u001b[0m\n\u001b[0;32m    858\u001b[0m                 \u001b[1;34m\"raw_input was called, but this frontend does not support input requests.\"\u001b[0m\u001b[1;33m\u001b[0m\u001b[1;33m\u001b[0m\u001b[0m\n\u001b[0;32m    859\u001b[0m             )\n\u001b[1;32m--> 860\u001b[1;33m         return self._input_request(str(prompt),\n\u001b[0m\u001b[0;32m    861\u001b[0m             \u001b[0mself\u001b[0m\u001b[1;33m.\u001b[0m\u001b[0m_parent_ident\u001b[0m\u001b[1;33m,\u001b[0m\u001b[1;33m\u001b[0m\u001b[1;33m\u001b[0m\u001b[0m\n\u001b[0;32m    862\u001b[0m             \u001b[0mself\u001b[0m\u001b[1;33m.\u001b[0m\u001b[0m_parent_header\u001b[0m\u001b[1;33m,\u001b[0m\u001b[1;33m\u001b[0m\u001b[1;33m\u001b[0m\u001b[0m\n",
      "\u001b[1;32m~\\anaconda3\\lib\\site-packages\\ipykernel\\kernelbase.py\u001b[0m in \u001b[0;36m_input_request\u001b[1;34m(self, prompt, ident, parent, password)\u001b[0m\n\u001b[0;32m    902\u001b[0m             \u001b[1;32mexcept\u001b[0m \u001b[0mKeyboardInterrupt\u001b[0m\u001b[1;33m:\u001b[0m\u001b[1;33m\u001b[0m\u001b[1;33m\u001b[0m\u001b[0m\n\u001b[0;32m    903\u001b[0m                 \u001b[1;31m# re-raise KeyboardInterrupt, to truncate traceback\u001b[0m\u001b[1;33m\u001b[0m\u001b[1;33m\u001b[0m\u001b[1;33m\u001b[0m\u001b[0m\n\u001b[1;32m--> 904\u001b[1;33m                 \u001b[1;32mraise\u001b[0m \u001b[0mKeyboardInterrupt\u001b[0m\u001b[1;33m(\u001b[0m\u001b[1;34m\"Interrupted by user\"\u001b[0m\u001b[1;33m)\u001b[0m \u001b[1;32mfrom\u001b[0m \u001b[1;32mNone\u001b[0m\u001b[1;33m\u001b[0m\u001b[1;33m\u001b[0m\u001b[0m\n\u001b[0m\u001b[0;32m    905\u001b[0m             \u001b[1;32mexcept\u001b[0m \u001b[0mException\u001b[0m \u001b[1;32mas\u001b[0m \u001b[0me\u001b[0m\u001b[1;33m:\u001b[0m\u001b[1;33m\u001b[0m\u001b[1;33m\u001b[0m\u001b[0m\n\u001b[0;32m    906\u001b[0m                 \u001b[0mself\u001b[0m\u001b[1;33m.\u001b[0m\u001b[0mlog\u001b[0m\u001b[1;33m.\u001b[0m\u001b[0mwarning\u001b[0m\u001b[1;33m(\u001b[0m\u001b[1;34m\"Invalid Message:\"\u001b[0m\u001b[1;33m,\u001b[0m \u001b[0mexc_info\u001b[0m\u001b[1;33m=\u001b[0m\u001b[1;32mTrue\u001b[0m\u001b[1;33m)\u001b[0m\u001b[1;33m\u001b[0m\u001b[1;33m\u001b[0m\u001b[0m\n",
      "\u001b[1;31mKeyboardInterrupt\u001b[0m: Interrupted by user"
     ]
    }
   ],
   "source": [
    "# esta função é para quem quiser implementar sob a forma de um modulo\n",
    "def menu():\n",
    "    L = []\n",
    "    while True:\n",
    "        print(\"\"\"\n",
    "        ======== Demo procura e ordenação ============\n",
    "        1.Leitura de elementos para a lista\n",
    "        2.Procura sequencial de um elemento em lista não ordenada\n",
    "        \"\"\"\n",
    "        #2b.Procura sequencial de um elemento em lista não ordenada (outro exemplo)\n",
    "        #2c.Procura sequencial de um elemento em lista não ordenada (outro exemplo)\n",
    "        \"\"\"3.Procura sequencial de um elemento em lista ordenada\n",
    "        4a.Procura binária de um elemento em lista ordenada\n",
    "        4b.Procura binária de um elemento em lista ordenadas (outro exemplo)\n",
    "        5.Ordenação da lista utilizando o algoritmo das trocas diretas\n",
    "        6.Imprime lista\n",
    "        0.Sair\n",
    "        \"\"\")\n",
    "        op = input(\"Escolha uma opção: \")\n",
    "        if op == \"1\":\n",
    "            n = int(input(\"número de elementos a ler para a lista:\"))\n",
    "            L = ler_lista(n,L)\n",
    "            imprime_lista(L)\n",
    "        elif op == \"2\":\n",
    "            start_time = time.time()\n",
    "            teste_procura_seq(L)\n",
    "            print(\"--- %s segundos em PSLNO ---\" % (time.time() - start_time))\n",
    "        #elif op == \"2a\" or op == \"2A\":\n",
    "            #teste_procura_seq(L)\n",
    "        #elif op == \"2b\" or op == \"2B\":\n",
    "            #procuraSequencial(L)\n",
    "        #elif op == \"2c\" or op == \"2C\":\n",
    "            #procuraSeq(L)\n",
    "        elif op == \"3\":\n",
    "            start_time = time.time()\n",
    "            teste_procura_seq_ord(L)\n",
    "            print(\"--- %s segundos em PSLO ---\" % (time.time() - start_time))\n",
    "        elif op == \"4a\" or op == \"4A\":\n",
    "            start_time = time.time()\n",
    "            teste_procura_bin(L)\n",
    "            print(\"--- %s segundos em PBLO---\" % (time.time() - start_time))\n",
    "        elif op == \"4b\" or op == \"4B\":\n",
    "            start_time = time.time()\n",
    "            teste_procura_bin2(L)\n",
    "            print(\"--- %s segundos em PBLO---\" % (time.time() - start_time))\n",
    "        elif op == \"5\":\n",
    "            start_time = time.time()\n",
    "            ordena(L)\n",
    "            imprime_lista(L)\n",
    "            print(\"--- %s segundos em OTD---\" % (time.time() - start_time))\n",
    "        elif op == \"6\":\n",
    "            imprime_lista(L)\n",
    "        elif op == \"0\":\n",
    "            break        \n",
    "        else:\n",
    "            print(\"\\n Opção não valida. Tente de novo!\")\n",
    "    print(\"\\n Adeus\") \n",
    "\n",
    "menu()"
   ]
  },
  {
   "cell_type": "code",
   "execution_count": null,
   "id": "21c04e7c-e633-4b4b-be2b-db709cba2ddc",
   "metadata": {},
   "outputs": [],
   "source": []
  }
 ],
 "metadata": {
  "kernelspec": {
   "display_name": "Python 3",
   "language": "python",
   "name": "python3"
  },
  "language_info": {
   "codemirror_mode": {
    "name": "ipython",
    "version": 3
   },
   "file_extension": ".py",
   "mimetype": "text/x-python",
   "name": "python",
   "nbconvert_exporter": "python",
   "pygments_lexer": "ipython3",
   "version": "3.8.8"
  }
 },
 "nbformat": 4,
 "nbformat_minor": 5
}
