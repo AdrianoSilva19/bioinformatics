{
 "cells": [
  {
   "cell_type": "markdown",
   "id": "f9fd3fdb-622e-4e6e-a927-76dfb2b1a6e2",
   "metadata": {},
   "source": [
    "# Exercicio prático coleções"
   ]
  },
  {
   "cell_type": "markdown",
   "id": "afc5abdd-79ab-4480-85ce-80781034fb5b",
   "metadata": {},
   "source": [
    "Exercício: Dada uma sequência de números inteiros, pretende-se uma função que crie uma lista sem elementos repetidos a partir dessa sequência, usando um só ciclo (sugestão: use dicionários)."
   ]
  },
  {
   "cell_type": "code",
   "execution_count": 1,
   "id": "2ad7295a-e429-44d2-9884-9024a2fc5d9c",
   "metadata": {},
   "outputs": [],
   "source": [
    "def le_lista(n):\n",
    "    lista = []   # lista = list()\n",
    "    for i in range(n):\n",
    "        el = float(input(\"número:\"))\n",
    "        lista.append(el)\n",
    "        \n",
    "    return lista "
   ]
  },
  {
   "cell_type": "code",
   "execution_count": 2,
   "id": "5cd24d3b-ee85-498f-a761-23ecf1df8ad0",
   "metadata": {},
   "outputs": [],
   "source": [
    "def retira_repetidos1(lista):\n",
    "    lsr = []\n",
    "    for num in lista:\n",
    "        if lsr.count(num) == 0:\n",
    "            lsr.append(num)\n",
    "    return lsr \n",
    "\n",
    "def retira_repetidos2(lista):\n",
    "    lsr = []\n",
    "    for num in lista:\n",
    "        if not(num in lsr):\n",
    "            lsr.append(num)\n",
    "    return lsr\n",
    "\n",
    "def retira_repetidos(lista):\n",
    "    dic_lsr = {}\n",
    "    for num in lista:\n",
    "        dic_lsr[num]=1\n",
    "    return list(dic_lsr.keys())"
   ]
  },
  {
   "cell_type": "code",
   "execution_count": null,
   "id": "883342c8-9544-4a9d-9e91-d43e6ee9f3b6",
   "metadata": {},
   "outputs": [],
   "source": []
  },
  {
   "cell_type": "code",
   "execution_count": 3,
   "id": "abcfda5b-79ca-4790-93bc-e61aedf44852",
   "metadata": {},
   "outputs": [
    {
     "name": "stdin",
     "output_type": "stream",
     "text": [
      "número: 5\n",
      "número: 6\n",
      "número: 5\n",
      "número: 3\n",
      "número: 5\n",
      "número: 4\n",
      "número: 7\n",
      "número: 4\n",
      "número: 2\n",
      "número: 9\n"
     ]
    },
    {
     "name": "stdout",
     "output_type": "stream",
     "text": [
      "[5.0, 6.0, 5.0, 3.0, 5.0, 4.0, 7.0, 4.0, 2.0, 9.0]\n",
      "[5.0, 6.0, 3.0, 4.0, 7.0, 2.0, 9.0]\n"
     ]
    }
   ],
   "source": [
    "#teste\n",
    "\n",
    "def teste():\n",
    "    lista = le_lista(10)\n",
    "    lista_sem_repetidos = retira_repetidos(lista)\n",
    "    print(lista)\n",
    "    print(lista_sem_repetidos)\n",
    "\n",
    "teste()"
   ]
  }
 ],
 "metadata": {
  "kernelspec": {
   "display_name": "Python 3",
   "language": "python",
   "name": "python3"
  },
  "language_info": {
   "codemirror_mode": {
    "name": "ipython",
    "version": 3
   },
   "file_extension": ".py",
   "mimetype": "text/x-python",
   "name": "python",
   "nbconvert_exporter": "python",
   "pygments_lexer": "ipython3",
   "version": "3.8.8"
  }
 },
 "nbformat": 4,
 "nbformat_minor": 5
}
