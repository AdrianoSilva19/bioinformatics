{
 "cells": [
  {
   "cell_type": "markdown",
   "id": "bfd8b0ba-ef9b-4c8e-8299-0fe5c5b7daff",
   "metadata": {},
   "source": [
    "# Problemas\n",
    "#### 1. Escreva uma função que receba uma string e que valide se esta é uma sequência de DNA"
   ]
  },
  {
   "cell_type": "code",
   "execution_count": 7,
   "id": "89e662bf-8f9c-4472-a7c5-411f32adf09d",
   "metadata": {},
   "outputs": [
    {
     "name": "stdin",
     "output_type": "stream",
     "text": [
      "Teste aqui se é uma sequencia DNA:  ACTCAGTCAGACTCAG\n"
     ]
    },
    {
     "data": {
      "text/plain": [
       "True"
      ]
     },
     "execution_count": 7,
     "metadata": {},
     "output_type": "execute_result"
    }
   ],
   "source": [
    "def sequencia_dna(dna):\n",
    "    for i in dna:\n",
    "        if i == \"A\" or i == \"T\" or i == \"G\" or i == \"C\":\n",
    "            continue\n",
    "        \n",
    "        else:\n",
    "            return False\n",
    "    return True\n",
    "    \n",
    "seq = str(input(\"Teste aqui se é uma sequencia DNA: \"))\n",
    "sequencia_dna(seq)"
   ]
  },
  {
   "cell_type": "markdown",
   "id": "1e6c5d8e-20fe-49df-b4f8-79f2a6142e70",
   "metadata": {},
   "source": [
    "#### 2. Escreva uma função que recebe uma sequência e imprime, um por linha, o nº de A, C, G e T"
   ]
  },
  {
   "cell_type": "code",
   "execution_count": null,
   "id": "141b3b08-db81-4204-9119-a43d3e3eeed7",
   "metadata": {},
   "outputs": [
    {
     "name": "stdout",
     "output_type": "stream",
     "text": [
      "A -> 5\n",
      "C -> 5\n",
      "G -> 3\n",
      "T -> 3\n"
     ]
    }
   ],
   "source": [
    "\n",
    "def contar_nucleicos(dna):\n",
    "    a = 0\n",
    "    c = 0\n",
    "    g = 0\n",
    "    t = 0\n",
    "    for i in dna:\n",
    "       \n",
    "        if i == \"A\":\n",
    "            a += 1 \n",
    "            continue\n",
    "        elif i == \"C\":\n",
    "            c += 1\n",
    "            continue\n",
    "        elif i == \"G\":\n",
    "            g += 1\n",
    "            continue\n",
    "        elif i == \"T\":\n",
    "            t += 1\n",
    "            continue\n",
    "    print(f\"A -> {a}\")\n",
    "    print(f\"C -> {c}\")\n",
    "    print(f\"G -> {g}\")\n",
    "    print(f\"T -> {t}\")\n",
    "contar_nucleicos(seq)"
   ]
  },
  {
   "cell_type": "code",
   "execution_count": 9,
   "id": "8bf542c5-da31-4ac5-b53a-168723b3d650",
   "metadata": {},
   "outputs": [
    {
     "name": "stdout",
     "output_type": "stream",
     "text": [
      "ACTCAGTCAGACTCAG\n"
     ]
    }
   ],
   "source": [
    "print(seq)"
   ]
  },
  {
   "cell_type": "markdown",
   "id": "788a9f7b-5432-42c4-885c-26419f9901f9",
   "metadata": {},
   "source": [
    "#### 3. Modifique a função anterior para imprimir também o nº de erros"
   ]
  },
  {
   "cell_type": "code",
   "execution_count": 3,
   "id": "a071be91-b670-446c-b937-615786038542",
   "metadata": {},
   "outputs": [
    {
     "name": "stdout",
     "output_type": "stream",
     "text": [
      "A -> 6\n",
      "C -> 4\n",
      "G -> 4\n",
      "T -> 4\n",
      "ERROR -> 12\n"
     ]
    }
   ],
   "source": [
    "def contar_nucleicos_mod(dna):\n",
    "    a = 0\n",
    "    c = 0\n",
    "    g = 0\n",
    "    t = 0\n",
    "    e = 0 \n",
    "    for i in dna:\n",
    "       \n",
    "        if i == \"A\":\n",
    "            a += 1 \n",
    "            continue\n",
    "        elif i == \"C\":\n",
    "            c += 1\n",
    "            continue\n",
    "        elif i == \"G\":\n",
    "            g += 1\n",
    "            continue\n",
    "        elif i == \"T\":\n",
    "            t += 1\n",
    "            continue\n",
    "        else:\n",
    "            e += 1\n",
    "            continue\n",
    "            \n",
    "    print(f\"A -> {a}\")\n",
    "    print(f\"C -> {c}\")\n",
    "    print(f\"G -> {g}\")\n",
    "    print(f\"T -> {t}\")\n",
    "    print(f\"ERROR -> {e}\")\n",
    "DnA = \"AGCTGATGCRCDCFASTAGFDEJHKATAXV\"\n",
    "contar_nucleicos_mod(DnA)"
   ]
  },
  {
   "cell_type": "markdown",
   "id": "32e79876-be4e-47b0-90fc-ab86ab97ba65",
   "metadata": {},
   "source": [
    "#### 4. Escreva uma função que recebe uma sequência e imprime, uma por linha, a frequência de A, C, G e T"
   ]
  },
  {
   "cell_type": "code",
   "execution_count": 15,
   "id": "03237b86-6ab8-43b3-a63b-8276459b7147",
   "metadata": {},
   "outputs": [
    {
     "name": "stdin",
     "output_type": "stream",
     "text": [
      "Metes aqui uma sequencia de dna e eu conto as letras:  GCATGATACGGAAAGCTATCAGTACG\n"
     ]
    },
    {
     "name": "stdout",
     "output_type": "stream",
     "text": [
      "A -> 9\n",
      "C -> 5\n",
      "G -> 7\n",
      "T -> 5\n"
     ]
    }
   ],
   "source": [
    "def recebe_conta_nucleicos(dna):\n",
    "    a = 0\n",
    "    c = 0\n",
    "    g = 0\n",
    "    t = 0\n",
    "    for i in dna:\n",
    "       \n",
    "        if i == \"A\":\n",
    "            a += 1 \n",
    "            continue\n",
    "        elif i == \"C\":\n",
    "            c += 1\n",
    "            continue\n",
    "        elif i == \"G\":\n",
    "            g += 1\n",
    "            continue\n",
    "        elif i == \"T\":\n",
    "            t += 1\n",
    "            continue\n",
    "    print(f\"A -> {a}\")\n",
    "    print(f\"C -> {c}\")\n",
    "    print(f\"G -> {g}\")\n",
    "    print(f\"T -> {t}\")\n",
    "nova_seq = str(input(\"Metes aqui uma sequencia de dna e eu conto as letras: \"))\n",
    "recebe_conta_nucleicos(nova_seq)"
   ]
  },
  {
   "cell_type": "code",
   "execution_count": 7,
   "id": "ac88e8b4-33d3-41a1-9962-d7c1727c3f19",
   "metadata": {},
   "outputs": [
    {
     "name": "stdout",
     "output_type": "stream",
     "text": [
      "6\n",
      "4\n",
      "4\n",
      "4\n"
     ]
    }
   ],
   "source": [
    "print(DnA.count(\"A\"))\n",
    "print(DnA.count(\"T\"))\n",
    "print(DnA.count(\"G\"))\n",
    "print(DnA.count(\"C\"))"
   ]
  },
  {
   "cell_type": "markdown",
   "id": "4aadb911-4184-43d2-ac3d-c08e651c7fa3",
   "metadata": {},
   "source": [
    "#### 5. Escreva um programa que leia uma cadeia de DNA e imprima a cadeia de RNA correspondente"
   ]
  },
  {
   "cell_type": "code",
   "execution_count": 2,
   "id": "5e0f3f69-b48e-42be-a48a-562497a13614",
   "metadata": {},
   "outputs": [
    {
     "name": "stdin",
     "output_type": "stream",
     "text": [
      "Escreve a seq. de DNA para RNA TTTT\n"
     ]
    },
    {
     "data": {
      "text/plain": [
       "'UUUU'"
      ]
     },
     "execution_count": 2,
     "metadata": {},
     "output_type": "execute_result"
    }
   ],
   "source": [
    "def conversor_dna_rna(dna):\n",
    "    x = dna.replace(\"T\",\"U\")\n",
    "    \n",
    "    return x\n",
    "  \n",
    "rna = str(input(\"Escreve a seq. de DNA para RNA\"))\n",
    "conversor_dna_rna(rna)"
   ]
  },
  {
   "cell_type": "markdown",
   "id": "4f5342c4-c95c-4499-bedb-342c9cc2b2af",
   "metadata": {},
   "source": [
    "#### 6. Escreva uma função que receba uma string e imprime o nº de vogais seguido do nº de consoantes"
   ]
  },
  {
   "cell_type": "code",
   "execution_count": 16,
   "id": "38a101b4-8729-4f15-9a1f-fafda0e85e0e",
   "metadata": {},
   "outputs": [
    {
     "name": "stdin",
     "output_type": "stream",
     "text": [
      "Escreve uma frase  aeiou zxcvb ??\n"
     ]
    },
    {
     "data": {
      "text/plain": [
       "(5, 5)"
      ]
     },
     "execution_count": 16,
     "metadata": {},
     "output_type": "execute_result"
    }
   ],
   "source": [
    "def vogais_consoantes(frase):\n",
    "    vogais = 0\n",
    "    consoantes = 0\n",
    "    for i in frase:\n",
    "        if i in \"aeiouAEIOU\":\n",
    "            vogais += 1\n",
    "            continue\n",
    "        elif i in \"qwrtypsdfghjklçzxcvbnm\":\n",
    "            consoantes += 1\n",
    "            continue\n",
    "        elif i == \"\" or \"!?.,-\":\n",
    "            continue\n",
    "    return vogais, consoantes\n",
    "            \n",
    "string = str(input(\"Escreve uma frase \"))\n",
    "vogais_consoantes(string)"
   ]
  },
  {
   "cell_type": "markdown",
   "id": "945dea85-2c9d-4bb2-9fd3-a487e88ae77d",
   "metadata": {},
   "source": [
    "#### 7. Escreva um programa que leia uma cadeia de DNA e imprima o seu complemento inverso"
   ]
  },
  {
   "cell_type": "code",
   "execution_count": 8,
   "id": "180743ec-d08f-474f-8f92-4d3c21e653ad",
   "metadata": {},
   "outputs": [
    {
     "name": "stdin",
     "output_type": "stream",
     "text": [
      "Escreve DNA para RNA  ACTGCTAGCAT\n"
     ]
    },
    {
     "data": {
      "text/plain": [
       "'U G A C G A U C G U A'"
      ]
     },
     "execution_count": 8,
     "metadata": {},
     "output_type": "execute_result"
    }
   ],
   "source": [
    "# T -> A; A -> U; C -> G; G -> C\n",
    "\n",
    "def trans(c):\n",
    "    if c == \"T\":\n",
    "        return \"A\"\n",
    "    if c == \"A\":\n",
    "        return \"U\"\n",
    "    if c == \"C\":\n",
    "        return \"G\"\n",
    "    if c == \"G\":\n",
    "        return \"C\"\n",
    "    \n",
    "def converter_dna_mrna(dna):\n",
    "    return \" \".join([trans(c) for c in dna])\n",
    "x = input(\"Escreve DNA para RNA \")\n",
    "converter_dna_mrna(x)"
   ]
  },
  {
   "cell_type": "code",
   "execution_count": 10,
   "id": "bf3a219a-8486-49ce-8e36-b18b90be60ca",
   "metadata": {},
   "outputs": [
    {
     "name": "stdin",
     "output_type": "stream",
     "text": [
      "Escreve DNA para RNA  ACTACGACTCAG\n"
     ]
    }
   ],
   "source": [
    "def trans(c):\n",
    "    if c == \"T\":\n",
    "        return \"A\"\n",
    "    if c == \"A\":\n",
    "        return \"U\"\n",
    "    if c == \"C\":\n",
    "        return \"G\"\n",
    "    if c == \"G\":\n",
    "        return \"C\"\n",
    "    \n",
    "def converter_dna_mrna(dna):\n",
    "    blank = [\"\"]\n",
    "    for c in dna:\n",
    "        return [trans(c)].append(blank)\n",
    "x = input(\"Escreve DNA para RNA \")\n",
    "converter_dna_mrna(x)"
   ]
  },
  {
   "cell_type": "markdown",
   "id": "de70aa32-6f17-452a-9e05-aed5c1099125",
   "metadata": {},
   "source": [
    "#### 8. Escreva uma função que receba uma string e que devolva um dos 4 possíveis valores: DNA, RNA, AMINO ou ERRO"
   ]
  },
  {
   "cell_type": "code",
   "execution_count": 17,
   "id": "f271057f-bd40-4a16-83e6-e86da4f083b3",
   "metadata": {},
   "outputs": [
    {
     "name": "stdin",
     "output_type": "stream",
     "text": [
      "Sequencia:  olads\n"
     ]
    },
    {
     "data": {
      "text/plain": [
       "'ERRO'"
      ]
     },
     "execution_count": 17,
     "metadata": {},
     "output_type": "execute_result"
    }
   ],
   "source": [
    "def teste_dna(string):\n",
    "    for c in string:\n",
    "        if len(string) <= 3 and c == \"U\" or c==\"T\" or c==\"C\" or c==\"G\":\n",
    "            return \"AMINO\"\n",
    "        elif c == \"U\" or c==\"T\" or c==\"C\" or c==\"G\":\n",
    "            return \"RNA\"\n",
    "        elif c == \"A\" or c==\"T\" or c==\"C\" or c==\"G\":\n",
    "            return \"DNA\"\n",
    "        else: return \"ERRO\"\n",
    "sequencia = str(input(\"Sequencia: \"))\n",
    "teste_dna(sequencia)"
   ]
  },
  {
   "cell_type": "code",
   "execution_count": null,
   "id": "afbc3751-c9a7-4728-9145-57e8df349a54",
   "metadata": {},
   "outputs": [],
   "source": []
  }
 ],
 "metadata": {
  "kernelspec": {
   "display_name": "Python 3 (ipykernel)",
   "language": "python",
   "name": "python3"
  },
  "language_info": {
   "codemirror_mode": {
    "name": "ipython",
    "version": 3
   },
   "file_extension": ".py",
   "mimetype": "text/x-python",
   "name": "python",
   "nbconvert_exporter": "python",
   "pygments_lexer": "ipython3",
   "version": "3.8.10"
  }
 },
 "nbformat": 4,
 "nbformat_minor": 5
}
