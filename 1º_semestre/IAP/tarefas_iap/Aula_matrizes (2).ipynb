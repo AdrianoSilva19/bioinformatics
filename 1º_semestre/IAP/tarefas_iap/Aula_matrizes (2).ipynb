{
 "cells": [
  {
   "cell_type": "code",
   "execution_count": 1,
   "id": "4c11e54d-3d9d-41e9-9e5a-5ff2e14154c7",
   "metadata": {},
   "outputs": [],
   "source": [
    "# -*- coding:utf-8 -*-"
   ]
  },
  {
   "cell_type": "code",
   "execution_count": 15,
   "id": "434e88d8-30ef-46a4-a087-dc15554d80df",
   "metadata": {
    "tags": []
   },
   "outputs": [],
   "source": [
    "#As matrizes em python são representadas por listas de listas.\n",
    "#criação de uma matriz a 2x3\n",
    "m = [[1, 2, 3], [4, 5, 6]]"
   ]
  },
  {
   "cell_type": "code",
   "execution_count": 16,
   "id": "5cefb024-8393-44ff-8449-fd3a6890115e",
   "metadata": {},
   "outputs": [
    {
     "name": "stdout",
     "output_type": "stream",
     "text": [
      "[1, 2, 3]\n"
     ]
    }
   ],
   "source": [
    "#imprimir a 1ªlinha\n",
    "print(m[0])"
   ]
  },
  {
   "cell_type": "code",
   "execution_count": 17,
   "id": "20d2caae-5082-42e3-9145-d3a7dcbfae37",
   "metadata": {
    "tags": []
   },
   "outputs": [
    {
     "name": "stdout",
     "output_type": "stream",
     "text": [
      "[4, 5, 6]\n"
     ]
    }
   ],
   "source": [
    "#imprimir a 2ªlinha\n",
    "print(m[1])"
   ]
  },
  {
   "cell_type": "code",
   "execution_count": 18,
   "id": "badac4a7-c1b1-4dc3-a3bc-09ce10334ed4",
   "metadata": {},
   "outputs": [
    {
     "name": "stdout",
     "output_type": "stream",
     "text": [
      "[1, 2, 3]\n"
     ]
    }
   ],
   "source": [
    "#b é uma lista com a 1ªlinha da matriz\n",
    "linha = m[0]\n",
    "print(linha)"
   ]
  },
  {
   "cell_type": "code",
   "execution_count": 19,
   "id": "1feff2af-23ac-482d-9c23-2d496b602ee6",
   "metadata": {},
   "outputs": [
    {
     "name": "stdout",
     "output_type": "stream",
     "text": [
      "3\n"
     ]
    }
   ],
   "source": [
    "#imprimir o elemento da 1ªlinha, 3ªcoluna\n",
    "print(m[0][2])"
   ]
  },
  {
   "cell_type": "code",
   "execution_count": 20,
   "id": "3d730b96-8009-45a5-96ea-d23242d47b9f",
   "metadata": {},
   "outputs": [
    {
     "name": "stdout",
     "output_type": "stream",
     "text": [
      "[[1, 7, 3], [4, 5, 6]]\n"
     ]
    }
   ],
   "source": [
    "#substituir o elemento da 1ªlinha, 2ªcoluna por 7 e imprimir a matriz\n",
    "m[0][1] = 7\n",
    "print(m)"
   ]
  },
  {
   "cell_type": "code",
   "execution_count": 21,
   "id": "c78da635-5b26-41b6-b5c6-ec8fa16b8fdb",
   "metadata": {},
   "outputs": [
    {
     "name": "stdout",
     "output_type": "stream",
     "text": [
      "[1, 7, 3]\n"
     ]
    }
   ],
   "source": [
    "#imprimir a 1ªlinha da matriz\n",
    "print(linha) #print(m[0])"
   ]
  },
  {
   "cell_type": "code",
   "execution_count": 22,
   "id": "601e2ae8-f2c3-4e02-8043-993ecc152481",
   "metadata": {
    "tags": []
   },
   "outputs": [],
   "source": [
    "#substituir o elemento da 1ªlinha, 3ªcoluna por 9\n",
    "linha[2] = 9 #m[0][2]=9"
   ]
  },
  {
   "cell_type": "code",
   "execution_count": 23,
   "id": "1f2a586b-e211-41d0-809f-c76bad59aed1",
   "metadata": {},
   "outputs": [
    {
     "name": "stdout",
     "output_type": "stream",
     "text": [
      "[1, 7, 9]\n"
     ]
    }
   ],
   "source": [
    "#imprimir a 1ªlinha da matriz !!!!a alteração tinha sido feita na lista: linha\n",
    "print(m[0])"
   ]
  },
  {
   "cell_type": "code",
   "execution_count": 24,
   "id": "b00f1cdd-153f-44db-ba6b-f972d5f0d6e9",
   "metadata": {},
   "outputs": [
    {
     "name": "stdout",
     "output_type": "stream",
     "text": [
      "[1, 7, 9]\n"
     ]
    }
   ],
   "source": [
    "#imprimir a 1ªlinha da matriz\n",
    "print(linha)"
   ]
  },
  {
   "cell_type": "code",
   "execution_count": 25,
   "id": "eb44fcf7-1e84-4c5e-9b0b-1cca751a9d34",
   "metadata": {},
   "outputs": [
    {
     "name": "stdout",
     "output_type": "stream",
     "text": [
      "\n",
      "Impressão de matrizes\n",
      "\n",
      "1 7 9 \n",
      "4 5 6 \n"
     ]
    }
   ],
   "source": [
    "print(\"\"\"\n",
    "Impressão de matrizes\n",
    "\"\"\")\n",
    "#imprimir a matriz a por linha e coluna com espaços a separar os caracteres\n",
    "for lin in range(len(m)):\n",
    "    for col in range(len(m[lin])):\n",
    "        print(m[lin][col],end=' ')\n",
    "    print()"
   ]
  },
  {
   "cell_type": "code",
   "execution_count": 26,
   "id": "fa0adea8-2306-4a0c-8cbf-3cfe07785b30",
   "metadata": {},
   "outputs": [
    {
     "name": "stdout",
     "output_type": "stream",
     "text": [
      "1 7 9 \n",
      "4 5 6 \n"
     ]
    }
   ],
   "source": [
    "#outro exemplo de escrita\n",
    "for lin in m:\n",
    "    for elem in lin:\n",
    "        print(elem, end=' ')\n",
    "    print()"
   ]
  },
  {
   "cell_type": "code",
   "execution_count": 27,
   "id": "7cd1cd28-3b23-4848-bba7-90126b1a7558",
   "metadata": {},
   "outputs": [
    {
     "name": "stdout",
     "output_type": "stream",
     "text": [
      "1 7 9\n",
      "4 5 6\n"
     ]
    }
   ],
   "source": [
    "#outro exemplo de escrita\n",
    "###The join() method takes all items in an iterable and joins them into one string.\n",
    "###A string must be specified as the separator.\n",
    "\n",
    "for lin in m:\n",
    "    print(' '.join([str(elem) for elem in lin])) #temos que converter cada elemento numa str"
   ]
  },
  {
   "cell_type": "code",
   "execution_count": 29,
   "id": "94bfa9b5-4f54-4487-9ea5-7a3d24b31114",
   "metadata": {},
   "outputs": [
    {
     "name": "stdout",
     "output_type": "stream",
     "text": [
      "[1, 7, 9]\n",
      "[4, 5, 6]\n"
     ]
    }
   ],
   "source": [
    "#Algumas funcoes utilitarias:\n",
    "def imprime(matrix):\n",
    "    for lin in matrix:\n",
    "        print(lin) \n",
    "\n",
    "imprime(m)"
   ]
  },
  {
   "cell_type": "code",
   "execution_count": 15,
   "id": "3db1341d-4cca-47ef-9157-11265eb37ee0",
   "metadata": {},
   "outputs": [
    {
     "name": "stdout",
     "output_type": "stream",
     "text": [
      "\n",
      "Cálculo da soma dos valores da matriz\n",
      "\n",
      "32\n"
     ]
    }
   ],
   "source": [
    "print(\"\"\"\n",
    "Cálculo da soma dos valores da matriz\n",
    "\"\"\")\n",
    "#calcular a soma de todos os elementos da matriz\n",
    "soma = 0\n",
    "for i in range(len(m)):\n",
    "    for j in range(len(m[i])):\n",
    "        soma += m[i][j]\n",
    "print(soma)\n"
   ]
  },
  {
   "cell_type": "code",
   "execution_count": 16,
   "id": "6d366609-2780-4ffb-93d0-74420bec3aaf",
   "metadata": {},
   "outputs": [
    {
     "name": "stdout",
     "output_type": "stream",
     "text": [
      "32\n"
     ]
    }
   ],
   "source": [
    "#outro exemplo de calculo da soma\n",
    "soma = 0\n",
    "for lin in m:\n",
    "    for elem in lin:\n",
    "        soma += elem\n",
    "print(soma)"
   ]
  },
  {
   "cell_type": "code",
   "execution_count": 17,
   "id": "c99727ed-337e-4b49-bce2-cc41f1cdeac3",
   "metadata": {},
   "outputs": [
    {
     "name": "stdout",
     "output_type": "stream",
     "text": [
      "\n",
      "Criar uma matriz de zeros com 3 linhas e 4 colunas\n",
      "\n",
      "[[0, 0, 0, 0], [0, 0, 0, 0], [0, 0, 0, 0]]\n"
     ]
    }
   ],
   "source": [
    "print(\"\"\"\n",
    "Criar uma matriz de zeros com 3 linhas e 4 colunas\n",
    "\"\"\")\n",
    "linhas=3\n",
    "colunas=4\n",
    "matzero = [[0]*colunas]*linhas\n",
    "print(matzero)\n"
   ]
  },
  {
   "cell_type": "code",
   "execution_count": 30,
   "id": "18835b10-e4b5-483e-9d88-fe7b1db05874",
   "metadata": {},
   "outputs": [
    {
     "name": "stdout",
     "output_type": "stream",
     "text": [
      "[0, 0, 0, 0]\n",
      "[0, 0, 0, 0]\n",
      "[0, 0, 0, 0]\n"
     ]
    }
   ],
   "source": [
    "# Criar uma matriz toda a zeros\n",
    "def mat_zero(l,c):\n",
    "    matriz = []\n",
    "    for lin in range(l):\n",
    "        linha=[]\n",
    "        for col in range(c):\n",
    "            linha.append(0)\n",
    "        matriz.append(linha)\n",
    "    return matriz\n",
    "\n",
    "m=mat_zero(3,4)\n",
    "imprime(m)"
   ]
  },
  {
   "cell_type": "code",
   "execution_count": 19,
   "id": "f5833905-eb71-43d3-ac06-64a294b783d6",
   "metadata": {},
   "outputs": [
    {
     "name": "stdout",
     "output_type": "stream",
     "text": [
      "[[5, 0, 0, 0], [5, 0, 0, 0], [5, 0, 0, 0]]\n"
     ]
    }
   ],
   "source": [
    "#substituir os elementos da 1ªcoluna por 5 e imprimir a matriz\n",
    "matzero[0][0] = 5\n",
    "matzero[1][0] = 5\n",
    "matzero[2][0] = 5\n",
    "print(matzero)"
   ]
  },
  {
   "cell_type": "code",
   "execution_count": 24,
   "id": "dbc83e05-1ec4-40a8-a636-4bd8dd283f26",
   "metadata": {},
   "outputs": [
    {
     "name": "stdout",
     "output_type": "stream",
     "text": [
      "\n",
      "Formas alternativas de criar matrizes com zeros\n",
      "»\n",
      "[[0, 0, 0], [0, 0, 0], [0, 0, 0], [0, 0, 0]]\n"
     ]
    }
   ],
   "source": [
    "print(\"\"\"\n",
    "Formas alternativas de criar matrizes com zeros\n",
    "»\"\"\")\n",
    "#exemplo de matriz 4x3\n",
    "linhas=4\n",
    "colunas=3\n",
    "matzero = [0] * linhas\n",
    "for i in range(linhas):\n",
    "    matzero[i] = [0]*colunas\n",
    "print(matzero)"
   ]
  },
  {
   "cell_type": "code",
   "execution_count": 25,
   "id": "e6f13a14-09fb-41ab-bb19-1a542b00e9e9",
   "metadata": {},
   "outputs": [
    {
     "name": "stdout",
     "output_type": "stream",
     "text": [
      "»\n",
      "[[0, 0, 0], [0, 0, 0], [0, 0, 0], [0, 0, 0]]\n"
     ]
    }
   ],
   "source": [
    "#outro exemplo de criação de matrizes com zeros\n",
    "linhas=4\n",
    "colunas=3\n",
    "matzero = []\n",
    "for i in range(linhas):\n",
    "    matzero.append([0]*colunas)\n",
    "print(matzero)"
   ]
  },
  {
   "cell_type": "code",
   "execution_count": 27,
   "id": "1a146fe4-e880-4bf8-8b3e-3fd08cff74a9",
   "metadata": {},
   "outputs": [
    {
     "name": "stdout",
     "output_type": "stream",
     "text": [
      "[[0, 0, 0], [0, 0, 0], [0, 0, 0], [0, 0, 0]]\n"
     ]
    }
   ],
   "source": [
    "#mais outro exemplo de criação de matrizes com zeros\n",
    "linhas=4\n",
    "colunas=3\n",
    "matzero=[[0]*colunas for i in range(linhas)]\n",
    "print(matzero)"
   ]
  },
  {
   "cell_type": "code",
   "execution_count": 31,
   "id": "b9bfcf0e-befc-4c89-a766-5f90897cd638",
   "metadata": {},
   "outputs": [
    {
     "name": "stdout",
     "output_type": "stream",
     "text": [
      "[0, 0, 0, 0]\n",
      "[0, 0, 0, 0]\n",
      "[0, 0, 0, 0]\n"
     ]
    }
   ],
   "source": [
    "def mat_zero2(l,c):\n",
    "    matriz = [[0 for lin in range(c)] for col in range(l)]\n",
    "    return matriz\n",
    "\n",
    "m=mat_zero2(3,4)\n",
    "imprime(m)"
   ]
  },
  {
   "cell_type": "code",
   "execution_count": 32,
   "id": "9337ca76-6464-48fe-a753-6a73ecf954e5",
   "metadata": {},
   "outputs": [
    {
     "name": "stdout",
     "output_type": "stream",
     "text": [
      "[0.0063170431312022934, 0.9704177037261081, 0.2822112332114187, 0.04872591959247363]\n",
      "[0.5202464994431214, 0.70089803536462, 0.3485861634479551, 0.29139213084042803]\n",
      "[0.06724250601080062, 0.5237615060616501, 0.540724922507925, 0.7746810444373381]\n"
     ]
    }
   ],
   "source": [
    "# criar uma matriz com numeros aleatorios\n",
    "import random\n",
    "def mat_rand(l,c): \n",
    "    matriz = []\n",
    "    for lin in range(l):\n",
    "        linha=[]\n",
    "        for col in range(c):\n",
    "            linha.append(random.random())\n",
    "        matriz.append(linha)\n",
    "    return matriz\n",
    "\n",
    "m=mat_rand(3,4)\n",
    "imprime(m)"
   ]
  },
  {
   "cell_type": "code",
   "execution_count": 33,
   "id": "96378297-5ce2-4e0c-ae15-6f00a3ab8c4a",
   "metadata": {},
   "outputs": [
    {
     "name": "stdout",
     "output_type": "stream",
     "text": [
      "[0.8957910320187623, 0.7165429981814119, 0.5837046729202571, 0.35936089777968294]\n",
      "[0.1346908593777959, 0.6196847786193053, 0.4133846423862829, 0.9818035584759064]\n",
      "[0.8328277880906605, 0.07477420264778589, 0.2893060439373094, 0.2557898219330784]\n"
     ]
    }
   ],
   "source": [
    "def mat_rand2(l,c): \n",
    "    matriz = [[random.random() for col in range(c)] for lin in range(l)]\n",
    "    return matriz\n",
    "\n",
    "m=mat_rand2(3,4)\n",
    "imprime(m)"
   ]
  },
  {
   "cell_type": "code",
   "execution_count": null,
   "id": "51ca74cd-e75c-4e96-abb4-67612685d294",
   "metadata": {},
   "outputs": [],
   "source": [
    "#Processamento de matrizes\n",
    "def processa(m):\n",
    "    lin=0\n",
    "    while lin<len(m):\n",
    "        col=0\n",
    "        while col<len(m[0]):\n",
    "            m[lin][col] = 1 #processamento \n",
    "            col+=1\n",
    "        lin+=1\n",
    "    return(m)\n",
    "    \n",
    "def processa2(m):\n",
    "    for lin in range(len(m)):\n",
    "        for col in range(len(m[0])):\n",
    "            m[lin][col] = 1 #processamento \n",
    "    return(m)\n"
   ]
  },
  {
   "cell_type": "code",
   "execution_count": null,
   "id": "57aa77f3-2ba8-4197-aced-a988a82647b0",
   "metadata": {},
   "outputs": [],
   "source": [
    "#Soma de duas matrizes\n",
    "def addition(m1,m2):\n",
    "    msoma=[]\n",
    "    lin=0\n",
    "    while lin<len(m1):\n",
    "        colsoma=[]\n",
    "        col=0\n",
    "        while col<len(m1[0]):\n",
    "            colsoma.append(m1[lin][col]+m2[lin][col])\n",
    "            col+=1\n",
    "        lin+=1\n",
    "        msoma.append(colsoma)\n",
    "    return(msoma)\n",
    "\n",
    "def addition2(m1,m2):\n",
    "    msoma=[]\n",
    "    for lin in range(len(m1)):\n",
    "        colsoma=[]\n",
    "        for col in range(len(m1[0])):\n",
    "            colsoma.append(m1[lin][col]+m2[lin][col])\n",
    "        msoma.append(colsoma)\n",
    "    return(msoma)\n",
    "\n"
   ]
  },
  {
   "cell_type": "code",
   "execution_count": null,
   "id": "c675f4be-1689-4a53-8ea7-4ac37d0f0c57",
   "metadata": {},
   "outputs": [],
   "source": []
  },
  {
   "cell_type": "code",
   "execution_count": null,
   "id": "c4628c2b-d94d-43dc-8591-cd3ff4c32905",
   "metadata": {},
   "outputs": [],
   "source": [
    "'''\n",
    "[1,0,2]   [3,1]   [1*3+0*2+2*1 , 1*1+0*1+2*0]   [5,1]\n",
    "[4,3,1] * [2,1] = [4*3+3*2+1*1 , 4*1+3*1+1*0] = [19,7]\n",
    "          [1,0]\n",
    "'''\n",
    "#Produto de duas matrizes:\n",
    "def produto(m1,m2): \n",
    "    if len(m1[0]) != len(m2): # Verificar a dimensão da matriz\n",
    "        print ('Matrizes têm de ser m*n e n*p para multiplicar!')\n",
    "    else:  # Multiplicar se as dimensões forem corretas\n",
    "        nm = mat_zero(len(m1),len(m2[0]))\n",
    "        for i in range(len(m1)):\n",
    "            for j in range(len(m2[0])):\n",
    "                for k in range(len(m2)):\n",
    "                    nm[i][j] += m1[i][k]*m2[k][j]\n",
    "        return nm\n",
    "\n",
    "def produto2(m1,m2):\n",
    "    nm=[]\n",
    "    i=0\n",
    "    while i<len(m1):\n",
    "        j=0\n",
    "        e=[]\n",
    "        while j<len(m2[0]):\n",
    "            k=0\n",
    "            r=0\n",
    "            while k < len(m1[0]):\n",
    "                r+=m1[i][k] * m2[k][j]\n",
    "                k+=1\n",
    "            j+=1\n",
    "            e.append(r)\n",
    "        nm.append(e)\n",
    "        i+=1\n",
    "    return nm\n"
   ]
  },
  {
   "cell_type": "code",
   "execution_count": 29,
   "id": "770e77a2-454d-44a6-aa23-5897a3598bcb",
   "metadata": {},
   "outputs": [
    {
     "name": "stdout",
     "output_type": "stream",
     "text": [
      "\n",
      "criar matrizes por input de valores\n",
      "»\n"
     ]
    },
    {
     "name": "stdin",
     "output_type": "stream",
     "text": [
      "Nº de linhas:  2\n",
      "Valores para a linha 0: 1 2 3\n",
      "Valores para a linha 1: 4 5 6\n"
     ]
    },
    {
     "name": "stdout",
     "output_type": "stream",
     "text": [
      "[[1, 2, 3], [4, 5, 6]]\n"
     ]
    }
   ],
   "source": [
    "print(\"\"\"\n",
    "criar matrizes por input de valores\n",
    "»\"\"\")\n",
    "#pedir o número de linhas que a matriz terá\n",
    "n=int(input(\"Nº de linhas: \")) \n",
    "m=[]\n",
    "\n",
    "for i in range(n):\n",
    "    m.append([int(j) for j in input(f\"Valores para a linha {i}:\").split()])\n",
    "print(m)\n",
    "\n"
   ]
  },
  {
   "cell_type": "code",
   "execution_count": 31,
   "id": "a1aaccd8-189c-4b91-8563-f3253ad63cd0",
   "metadata": {},
   "outputs": [
    {
     "name": "stdout",
     "output_type": "stream",
     "text": [
      "»\n"
     ]
    },
    {
     "name": "stdin",
     "output_type": "stream",
     "text": [
      "Nº de linhas:  2\n",
      "Valores para a linha 0: 1 2 3\n",
      "Valores para a linha 1: 1 2 3\n"
     ]
    },
    {
     "name": "stdout",
     "output_type": "stream",
     "text": [
      "[[1, 2, 3], [1, 2, 3]]\n"
     ]
    }
   ],
   "source": [
    "print(\"»\")\n",
    "#outro exemplo para criar matrizes por input de valores\n",
    "n = int(input(\"Nº de linhas: \")) \n",
    "m = []\n",
    "for i in range(n):\n",
    "    linha = input(f\"Valores para a linha {i}:\").split()\n",
    "    for i in range(len(linha)):\n",
    "        linha[i] = int(linha[i])\n",
    "    m.append(linha)\n",
    "print(m)\n"
   ]
  },
  {
   "cell_type": "code",
   "execution_count": 32,
   "id": "c52b2fde-5501-476d-8b08-be880db6dd23",
   "metadata": {},
   "outputs": [
    {
     "name": "stdout",
     "output_type": "stream",
     "text": [
      "»\n"
     ]
    },
    {
     "name": "stdin",
     "output_type": "stream",
     "text": [
      "Nº de linhas:  2\n",
      "Valores para a linha 0: 1 2\n",
      "Valores para a linha 1: 1 2\n"
     ]
    },
    {
     "name": "stdout",
     "output_type": "stream",
     "text": [
      "[[1, 2], [1, 2]]\n"
     ]
    }
   ],
   "source": [
    "print(\"»\")\n",
    "#e ainda mais outro exemplo para criar matrizes por input de valores\n",
    "n = int(input(\"Nº de linhas: \")) \n",
    "m = [[int(j) for j in input(f\"Valores para a linha {i}:\").split()] for i in range(n)]\n",
    "print(m)"
   ]
  },
  {
   "cell_type": "code",
   "execution_count": 35,
   "id": "f7d5fbac-288f-4dc0-bd37-88a356248ccc",
   "metadata": {},
   "outputs": [
    {
     "name": "stdout",
     "output_type": "stream",
     "text": [
      "\n",
      "Manipular matrizes\n",
      "»\n",
      "1 0 0 0\n",
      "2 1 0 0\n",
      "2 2 1 0\n",
      "2 2 2 1\n"
     ]
    }
   ],
   "source": [
    "print(\"\"\"\n",
    "Manipular matrizes\n",
    "»\"\"\")\n",
    "n = 4\n",
    "m = [[0] * n for i in range(n)]\n",
    "for i in range(n):\n",
    "    for j in range(n):\n",
    "        #acima da diagonal\n",
    "        if i < j:\n",
    "            m[i][j] = 0\n",
    "        #abaixo da diagonal\n",
    "        elif i > j:\n",
    "            m[i][j] = 2\n",
    "        #diagonal\n",
    "        else:\n",
    "            m[i][j] = 1\n",
    "for linha in m:\n",
    "    print(' '.join([str(elem) for elem in linha]))\n"
   ]
  },
  {
   "cell_type": "code",
   "execution_count": 37,
   "id": "4beb3225-04b1-4e24-83a6-e52d61226793",
   "metadata": {},
   "outputs": [
    {
     "name": "stdout",
     "output_type": "stream",
     "text": [
      "1 0 0 0\n",
      "2 1 0 0\n",
      "2 2 1 0\n",
      "2 2 2 1\n"
     ]
    }
   ],
   "source": [
    "#outro exemplo de manipulação   \n",
    "n = 4\n",
    "m = [[0] * n for i in range(n)]\n",
    "for i in range(n):\n",
    "    for j in range(0, i):\n",
    "        m[i][j] = 2\n",
    "    m[i][i] = 1\n",
    "    for j in range(i + 1, n):\n",
    "        m[i][j] = 0\n",
    "for linha in m:\n",
    "    print(' '.join([str(elem) for elem in linha]))"
   ]
  },
  {
   "cell_type": "code",
   "execution_count": 4,
   "id": "fb367518-eab9-4ee3-be29-e493e16d583b",
   "metadata": {},
   "outputs": [
    {
     "name": "stdout",
     "output_type": "stream",
     "text": [
      "[[1, 0, 0, 0], [2, 1, 0, 0], [2, 2, 1, 0], [2, 2, 2, 1]]\n",
      "1 0 0 0\n",
      "2 1 0 0\n",
      "2 2 1 0\n",
      "2 2 2 1\n"
     ]
    }
   ],
   "source": [
    "#outro exemplo de escrita    \n",
    "n = 4\n",
    "m = [0] * n\n",
    "for i in range(n):\n",
    "    m[i] = [2] * i + [1] + [0] * (n - i - 1)\n",
    "print(m)\n",
    "for linha in m:\n",
    "    print(' '.join([str(elem) for elem in linha]))"
   ]
  },
  {
   "cell_type": "code",
   "execution_count": 1,
   "id": "c31b7f09-5e30-40a6-97ed-b1f98bc28558",
   "metadata": {},
   "outputs": [
    {
     "name": "stdout",
     "output_type": "stream",
     "text": [
      "1 0 0 0\n",
      "2 1 0 0\n",
      "2 2 1 0\n",
      "2 2 2 1\n"
     ]
    }
   ],
   "source": [
    "#outro exemplo de escrita \n",
    "n = 4\n",
    "m = [[2] * i + [1] + [0] * (n - i - 1) for i in range(n)]\n",
    "for linha in m: \n",
    "    print(' '.join([str(elem) for elem in linha]))"
   ]
  }
 ],
 "metadata": {
  "kernelspec": {
   "display_name": "Python 3",
   "language": "python",
   "name": "python3"
  },
  "language_info": {
   "codemirror_mode": {
    "name": "ipython",
    "version": 3
   },
   "file_extension": ".py",
   "mimetype": "text/x-python",
   "name": "python",
   "nbconvert_exporter": "python",
   "pygments_lexer": "ipython3",
   "version": "3.8.8"
  }
 },
 "nbformat": 4,
 "nbformat_minor": 5
}
