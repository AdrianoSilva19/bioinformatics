{
 "cells": [
  {
   "cell_type": "markdown",
   "id": "ccdfa3fb-0da8-4bba-98fc-5a33bd1dc902",
   "metadata": {},
   "source": [
    "# Ficha de trabalho 1"
   ]
  },
  {
   "cell_type": "markdown",
   "id": "12da8b6d-54c4-4525-978c-b29698d23af6",
   "metadata": {},
   "source": [
    "## exercicio 1\n",
    "Dado o valor de um ângulo em graus, converter esse valor para radianos.\n",
    "• 180º = π radianos "
   ]
  },
  {
   "cell_type": "code",
   "execution_count": 11,
   "id": "086c3a86-dace-465b-ae11-81c86232ffc9",
   "metadata": {},
   "outputs": [
    {
     "name": "stdin",
     "output_type": "stream",
     "text": [
      "valor em graus: 180\n"
     ]
    },
    {
     "name": "stdout",
     "output_type": "stream",
     "text": [
      "180 graus são 3.14 radianos\n"
     ]
    }
   ],
   "source": [
    "from math import pi\n",
    "def conversão_grau_rad(graus):\n",
    "    rad= ((pi*graus)/int(180))\n",
    "    return rad\n",
    "def teste_conversão_grau_rad():\n",
    "    g=int(input(\"valor em graus:\"))\n",
    "    r=conversão_grau_rad(g)\n",
    "    print(f'{g} graus são {r:.2f} radianos') \n",
    "teste_conversão_grau_rad()\n"
   ]
  },
  {
   "cell_type": "markdown",
   "id": "e51218fc-615b-4e13-ab0e-3df65612cbbd",
   "metadata": {},
   "source": [
    "# exercicio 2\n",
    "Dado o valor da precipitação em polegadas, fazer a conversão desse valor para\n",
    "milímetros."
   ]
  },
  {
   "cell_type": "code",
   "execution_count": 8,
   "id": "d9c30e3f-415b-4857-a9b2-c134c18c85aa",
   "metadata": {},
   "outputs": [
    {
     "name": "stdin",
     "output_type": "stream",
     "text": [
      "valor em polegadas: 3\n"
     ]
    },
    {
     "name": "stdout",
     "output_type": "stream",
     "text": [
      "3 polegadas são 75 mililitros\n"
     ]
    }
   ],
   "source": [
    "def conversão_pol_mil(polegadas):\n",
    "    mil= (polegadas * int(25.54))\n",
    "    return mil\n",
    "def teste_conversão_pol_mil():\n",
    "    polegadas=int(input(\"valor em polegadas:\"))\n",
    "    m=conversão_pol_mil(polegadas)\n",
    "    print(f'{polegadas} polegadas são {m} mililitros')\n",
    "teste_conversão_pol_mil()\n",
    "\n",
    "    "
   ]
  },
  {
   "cell_type": "markdown",
   "id": "293f73da-8f4f-4964-9c73-4a09527ae209",
   "metadata": {},
   "source": [
    "# Exercicio 3\n",
    "Dada uma temperatura em graus Celsius, converter esse valor para graus Fahrenheit. "
   ]
  },
  {
   "cell_type": "code",
   "execution_count": 11,
   "id": "81ba9579-52b6-4d37-b75b-f0422e9ab219",
   "metadata": {},
   "outputs": [
    {
     "name": "stdin",
     "output_type": "stream",
     "text": [
      "valor em celcius: 30\n"
     ]
    },
    {
     "name": "stdout",
     "output_type": "stream",
     "text": [
      "30 graus celcius são 62 graus fahrenheit\n"
     ]
    }
   ],
   "source": [
    "def conversão_cel_far (celcius):\n",
    "    fahrenheit= (celcius*int(1.8)+int(32))\n",
    "    return fahrenheit\n",
    "def teste_conversão_cel_far():\n",
    "    celcius=int(input(\"valor em celcius:\"))\n",
    "    far= conversão_cel_far (celcius)\n",
    "    print(f'{celcius} graus celcius são {far} graus fahrenheit')\n",
    "teste_conversão_cel_far()"
   ]
  },
  {
   "cell_type": "markdown",
   "id": "3868d96f-5001-41bc-9777-ae0d0aee3434",
   "metadata": {},
   "source": [
    "# Exercicio 4\n",
    "Dadas as coordenadas polares (ρ,θ) dum ponto num sistema a duas dimensões,\n",
    "converter e escrever as correspondentes coordenadas cartesianas do referido ponto"
   ]
  },
  {
   "cell_type": "code",
   "execution_count": 88,
   "id": "1bb321b4-d435-4c09-82c4-9d4dd0bd8e28",
   "metadata": {},
   "outputs": [
    {
     "name": "stdin",
     "output_type": "stream",
     "text": [
      "valor de p: 3\n",
      "valor de o: 30\n"
     ]
    },
    {
     "name": "stdout",
     "output_type": "stream",
     "text": [
      " as coordenadas polares (3, 30) são (2.598076211353316, 1.4999999999999998) em cartesiano\n"
     ]
    }
   ],
   "source": [
    "from math import pi\n",
    "from math import sin\n",
    "from math import cos\n",
    "def conversão_pol_cart(p,o):\n",
    "    x= p*cos(o*(pi/180))\n",
    "    y=p*sin(o*(pi/180))\n",
    "    return x , y\n",
    "def teste_conversão_pol_cart( ):\n",
    "    p= int(input(\"valor de p:\"))\n",
    "    o=int(input(\"valor de o:\"))\n",
    "    cartesianas= conversão_pol_cart(p,o)\n",
    "    print(f' as coordenadas polares {p,o} são {cartesianas} em cartesiano')\n",
    "teste_conversão_pol_cart( )"
   ]
  },
  {
   "cell_type": "markdown",
   "id": "771e213b-2da8-4b54-92d7-aa7d98b326e8",
   "metadata": {},
   "source": [
    "# Exercicio 5\n",
    "Dada uma potência em KW (Kilowatts), converter e escrever o valor em CV (Cavalos\n",
    "Vapor). "
   ]
  },
  {
   "cell_type": "code",
   "execution_count": 86,
   "id": "84f8d047-a550-4a21-8bb5-17e2278809ad",
   "metadata": {},
   "outputs": [
    {
     "name": "stdin",
     "output_type": "stream",
     "text": [
      "potencia em kw: 40\n"
     ]
    },
    {
     "name": "stdout",
     "output_type": "stream",
     "text": [
      "O valor da potencia de 40 kw é 54.42 cv\n"
     ]
    }
   ],
   "source": [
    "def conversão_kw_cv(kw):\n",
    "    cv= kw/0.735\n",
    "    return cv\n",
    "def teste_conversão_kw_cv():\n",
    "    kw=int(input(\"potencia:\"))\n",
    "    cavalos=conversão_kw_cv(kw)\n",
    "    print(f'O valor da potencia de {kw} kw é {cavalos:.2f} cv')\n",
    "teste_conversão_kw_cv()\n",
    "    "
   ]
  },
  {
   "cell_type": "markdown",
   "id": "46e8e5ca-c4b5-4113-b2bb-de63835846d8",
   "metadata": {},
   "source": [
    "# Exercicio 6\n",
    "Dada uma recta que passa por M1(a, b) e por M2(c, d), determinar o ponto M3(x, y) por\n",
    "onde passa a recta, conhecendo, ainda, o valor de x. Utilize as seguintes equações:"
   ]
  },
  {
   "cell_type": "code",
   "execution_count": 4,
   "id": "f5ac8ef6-9128-4988-b53c-af9929b66267",
   "metadata": {},
   "outputs": [
    {
     "name": "stdout",
     "output_type": "stream",
     "text": [
      "Quais as coordenadas de M1:\n"
     ]
    },
    {
     "name": "stdin",
     "output_type": "stream",
     "text": [
      "a: 5\n",
      "b: 3\n"
     ]
    },
    {
     "name": "stdout",
     "output_type": "stream",
     "text": [
      "Quais as coordenadas de M2:\n"
     ]
    },
    {
     "name": "stdin",
     "output_type": "stream",
     "text": [
      "c: 3\n",
      "d: 2\n",
      "Qual o valor da ordenada x: 3\n"
     ]
    },
    {
     "name": "stdout",
     "output_type": "stream",
     "text": [
      "As coordenadas do ponto M3 são:(3.0,2.0)\n"
     ]
    }
   ],
   "source": [
    "def ponto_y(x,m,z):\n",
    "    y=x*m+z\n",
    "    return y\n",
    "def valor_m (a,b,c,d):\n",
    "    m=(b-d)/(a-c)\n",
    "    return m\n",
    "def valor_z (a,b,m):\n",
    "    z=b-a*m\n",
    "    return z\n",
    "def teste_ponto_y():\n",
    "    print('Quais as coordenadas de M1:')\n",
    "    a= float(input('a:'))\n",
    "    b= float(input('b:'))\n",
    "    print('Quais as coordenadas de M2:')\n",
    "    c= float(input('c:'))\n",
    "    d= float(input('d:'))\n",
    "    x= float(input('Qual o valor da ordenada x:'))\n",
    "    m= valor_m(a,b,c,d)\n",
    "    z= valor_z(a,b,m)\n",
    "    y= ponto_y(x,m,z)\n",
    "    print(f'As coordenadas do ponto M3 são:({x},{y})')\n",
    "teste_ponto_y()"
   ]
  },
  {
   "cell_type": "markdown",
   "id": "78a55dc4-0aa3-4ae2-8641-cbf9a63610cf",
   "metadata": {},
   "source": [
    "# Exercicio 7\n",
    "Dados os lados de um triângulo (L1, L2, L3), calcular a sua área através das seguintes\n",
    "relações:"
   ]
  },
  {
   "cell_type": "code",
   "execution_count": 5,
   "id": "5f354495-9c41-4b88-b466-07477ab5ee81",
   "metadata": {},
   "outputs": [
    {
     "name": "stdin",
     "output_type": "stream",
     "text": [
      "comprimento do lado 1: 3\n",
      "comprimento do lado 2: 3\n",
      "comprimento do lado 3: 3\n"
     ]
    },
    {
     "name": "stdout",
     "output_type": "stream",
     "text": [
      "a area do triangulo de lados 3,3,3 é de 3.90\n"
     ]
    }
   ],
   "source": [
    "def area_triangulo (l1,l2,l3):\n",
    "    t=((l1+l2+l3)/2)\n",
    "    a=(t*(t-l1)*(t-l2)*(t-l3))**(1/2)\n",
    "    return a\n",
    "def teste_area_triangulo ():\n",
    "    l1=int(input(\"comprimento do lado 1:\"))\n",
    "    l2=int(input(\"comprimento do lado 2:\"))\n",
    "    l3=int(input(\"comprimento do lado 3:\"))\n",
    "    area=area_triangulo (l1, l2, l3)\n",
    "    print (f'a area do triangulo de lados {l1},{l2},{l3} é de {area:.2f}')\n",
    "teste_area_triangulo ()"
   ]
  },
  {
   "cell_type": "markdown",
   "id": "aed7c9b7-4f82-4cf4-b0ce-7d46fb7909a7",
   "metadata": {},
   "source": [
    "# exercicio 8\n",
    "Calcule a área (A) e o volume (V) de uma esfera, sabendo que:"
   ]
  },
  {
   "cell_type": "code",
   "execution_count": 7,
   "id": "8f61bef0-52d7-4ecf-8609-df10ece559fc",
   "metadata": {},
   "outputs": [
    {
     "name": "stdin",
     "output_type": "stream",
     "text": [
      "esfera de raio: 3\n"
     ]
    },
    {
     "name": "stdout",
     "output_type": "stream",
     "text": [
      "A esfera de raio 3 tem 113.10 de area e 113.10 de volume\n"
     ]
    }
   ],
   "source": [
    "from math import pi\n",
    "def area_esfera (r):\n",
    "    a=4*pi*r**2\n",
    "    return a\n",
    "def volume_esfera(r):   \n",
    "    v=((4*pi*r**3)/3)\n",
    "    return v\n",
    "def teste_area_esfera ():\n",
    "    r=int(input(\"esfera de raio:\"))\n",
    "    area=area_esfera (r)\n",
    "    volume=volume_esfera(r)\n",
    "    print(f'A esfera de raio {r} tem {area:.2f} de area e {volume:.2f} de volume')\n",
    "teste_area_esfera ()\n",
    "    "
   ]
  },
  {
   "cell_type": "markdown",
   "id": "98271789-27e1-451d-84bc-1080a48a8a89",
   "metadata": {},
   "source": [
    "# Exercicio 9\n",
    "Numa empresa, os funcionários são pagos a 250$00 à hora. Pretende-se que, a partir do\n",
    "número de horas de laboração de um empregado em cada um dos 5 dias da semana, e\n",
    "tendo em conta que os descontos para segurança social e IRS representam 20% do\n",
    "vencimento bruto, calcular o valor a receber pelo empregado na referida semana. "
   ]
  },
  {
   "cell_type": "code",
   "execution_count": 91,
   "id": "7fd5ba45-69f6-4b06-9ded-e7506d7cecfd",
   "metadata": {},
   "outputs": [
    {
     "name": "stdin",
     "output_type": "stream",
     "text": [
      "total de horas de segunda: 5\n",
      "total de horas de terça: 7\n",
      "total de horas de quarta: 7\n",
      "total de horas de quinta: 9\n",
      "total de horas sexta: 7\n"
     ]
    },
    {
     "name": "stdout",
     "output_type": "stream",
     "text": [
      "o valor a receber pelo empregado numa semana em que trabalha 35 horas é de 7000.0$\n"
     ]
    }
   ],
   "source": [
    "def vencimento_final(h1,h2,h3,h4,h5):\n",
    "    t=h1+h2+h3+h4+h5\n",
    "    vb=250*t\n",
    "    v=(vb-vb*0.20)\n",
    "    return v\n",
    "def teste_vencimento_final():\n",
    "    h1=int(input(\"total de horas de segunda:\"))\n",
    "    h2=int(input(\"total de horas de terça:\"))\n",
    "    h3=int(input(\"total de horas de quarta:\"))\n",
    "    h4=int(input(\"total de horas de quinta:\"))\n",
    "    h5=int(input(\"total de horas sexta:\"))\n",
    "    t=h1+h2+h3+h4+h5\n",
    "    vencimento= vencimento_final(h1, h2, h3, h4, h5)\n",
    "    print(f'o valor a receber pelo empregado numa semana em que trabalha {t} horas é de {vencimento}$')\n",
    "teste_vencimento_final()"
   ]
  }
 ],
 "metadata": {
  "kernelspec": {
   "display_name": "Python 3",
   "language": "python",
   "name": "python3"
  },
  "language_info": {
   "codemirror_mode": {
    "name": "ipython",
    "version": 3
   },
   "file_extension": ".py",
   "mimetype": "text/x-python",
   "name": "python",
   "nbconvert_exporter": "python",
   "pygments_lexer": "ipython3",
   "version": "3.8.8"
  }
 },
 "nbformat": 4,
 "nbformat_minor": 5
}
