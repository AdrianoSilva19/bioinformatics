{
 "cells": [
  {
   "cell_type": "markdown",
   "id": "02b943ed-e1d6-4b52-ae0b-98d38eb425f3",
   "metadata": {},
   "source": [
    "#### a) Criar uma matriz com os elementos na coluna múltiplos do primeiro elemento da linha: "
   ]
  },
  {
   "cell_type": "code",
   "execution_count": 1,
   "id": "cba583e1-3801-49f6-abf6-a10088662ad5",
   "metadata": {},
   "outputs": [
    {
     "name": "stdout",
     "output_type": "stream",
     "text": [
      "0 0 0 0 0 0\n",
      "0 1 2 3 4 5\n",
      "0 2 4 6 8 10\n",
      "0 3 6 9 12 15\n",
      "0 4 8 12 16 20\n"
     ]
    }
   ],
   "source": [
    "l = 5\n",
    "c = 6\n",
    "def matriz1(l,c):\n",
    "    matriz=[]\n",
    "    for i in range(0,l):\n",
    "        linha=[]\n",
    "        for j in range(0,c):\n",
    "            linha.append(j*i)\n",
    "        matriz.append(linha)\n",
    "    return matriz\n",
    "matriz=matriz1(l,c)\n",
    "for lin in matriz:\n",
    "    print(' '.join([str(elem) for elem in lin]))\n",
    "        \n"
   ]
  },
  {
   "cell_type": "markdown",
   "id": "34fa07dc-0f08-449e-8e83-6c8cc42bc43b",
   "metadata": {},
   "source": [
    "#### b) Pretende-se o desenvolvimento de funções para:\n",
    "#### 1 – Dada uma matriz, indicar se se trata de uma matriz triangular superior (matriz quadrada com todos os valores debaixo da diagonal a zero)."
   ]
  },
  {
   "cell_type": "code",
   "execution_count": 2,
   "id": "e08f53a9-a392-40bb-99ff-50febd1ad2e9",
   "metadata": {},
   "outputs": [
    {
     "name": "stdout",
     "output_type": "stream",
     "text": [
      "True\n"
     ]
    }
   ],
   "source": [
    "def mat_tri_sup(m):\n",
    "    triangular_superior = True\n",
    "    for i in range(len(m)):\n",
    "        for j in range(len(m[0])):\n",
    "            if i >j:\n",
    "                if m[i][j] != 0:\n",
    "                    triangular_superior=False\n",
    "    return triangular_superior\n",
    "                \n",
    "mat=[[1,9,1,2], [0,2,8,4], [0,0,2,3], [0,0,0,8]]\n",
    "print(mat_tri_sup(mat))"
   ]
  },
  {
   "cell_type": "markdown",
   "id": "fcb9d328-a6fc-4c6d-8abe-e5c62a9875b9",
   "metadata": {},
   "source": [
    "#### 2 – Dada uma matriz, indicar quantos valores existem superiores à média."
   ]
  },
  {
   "cell_type": "code",
   "execution_count": 16,
   "id": "32233079-3852-4626-8d27-22976ec9a1ae",
   "metadata": {},
   "outputs": [
    {
     "data": {
      "text/plain": [
       "15"
      ]
     },
     "execution_count": 16,
     "metadata": {},
     "output_type": "execute_result"
    }
   ],
   "source": [
    "def mat_media(matriz):\n",
    "    soma=[]\n",
    "    for i in range(len(matriz)):\n",
    "        for j in matriz[1]:\n",
    "            soma.append(j)\n",
    "    return soma\n",
    "\n",
    "def sup_med(lista_soma,media):\n",
    "    lista_sup=[]\n",
    "    for i in lista_soma:\n",
    "        if i > media:\n",
    "            lista_sup.append(i)\n",
    "    return len(lista_sup)\n",
    "\n",
    "def teste():\n",
    "    lista_soma=mat_media(matriz)\n",
    "    n=len(lista_soma)\n",
    "    soma=sum(lista_soma)\n",
    "    media=soma/n\n",
    "    superior_med=sup_med(lista_soma,media)\n",
    "    return superior_med\n",
    "teste()\n",
    "    \n",
    "        "
   ]
  },
  {
   "cell_type": "markdown",
   "id": "fc702e1c-94b5-42bd-8f25-b436aa02442e",
   "metadata": {},
   "source": [
    "#### 3 – Dada uma matriz, indicar se é simétrica (simetria de valores relativamente à diagonal)"
   ]
  },
  {
   "cell_type": "code",
   "execution_count": 17,
   "id": "04490084-2376-43b6-a377-64cc1ac10834",
   "metadata": {},
   "outputs": [
    {
     "name": "stdout",
     "output_type": "stream",
     "text": [
      "A matriz é simétrica!\n"
     ]
    }
   ],
   "source": [
    "simetrica=[[0,2,2,2,2],\n",
    "          [2,0,2,2,2],\n",
    "          [2,2,0,2,2],\n",
    "          [2,2,2,0,2],\n",
    "          [2,2,2,2,0]]\n",
    "l=len(simetrica)\n",
    "c=len(simetrica[0])\n",
    "def mat_sime(l,c):\n",
    "    lista1=[]\n",
    "    lista2=[]\n",
    "    for i in range(0,l):\n",
    "        for j in range(0,c):\n",
    "            if i < j:\n",
    "                \n",
    "                lista1.append(simetrica[i][j])\n",
    "            if j < i:\n",
    "                lista2.append(simetrica[i][j])\n",
    "    return lista1, lista2\n",
    "def verificar(l1,l2):\n",
    "    if l1 == l2:\n",
    "        print(\"A matriz é simétrica!\")\n",
    "    else:\n",
    "        print(\"A matriz não é simétrica!\")\n",
    "    \n",
    "def teste():\n",
    "    l=len(simetrica)\n",
    "    c=len(simetrica[0])\n",
    "    lista1, lista2=mat_sime(l,c)\n",
    "    verificar(lista1, lista2)\n",
    "teste()\n",
    "            "
   ]
  },
  {
   "cell_type": "markdown",
   "id": "2f0cb63e-b9a5-433d-8af5-497c55b7f36e",
   "metadata": {},
   "source": [
    "#### 4 – Dada uma matriz e um valor, pretende-se uma matriz que seja o produto dos dois. "
   ]
  },
  {
   "cell_type": "code",
   "execution_count": 41,
   "id": "9ca405ad-2a55-444d-83eb-ee868c1d5519",
   "metadata": {},
   "outputs": [
    {
     "name": "stdout",
     "output_type": "stream",
     "text": [
      "0 4 4 4 4 \n",
      "4 0 4 4 4 \n",
      "4 4 0 4 4 \n",
      "4 4 4 0 4 \n",
      "4 4 4 4 0 \n"
     ]
    }
   ],
   "source": [
    "def mat_produto(m1,n):\n",
    "    m2=[]\n",
    "    for i in range(0,len(m1)):\n",
    "        for j in range(0, len(m1[0])):\n",
    "            m2.append(m1[i][j]*n)\n",
    "    return m2\n",
    "\n",
    "def make_mat(m2):\n",
    "    matriz=[]\n",
    "    for i in range(0, len(m2), 5):\n",
    "        matriz.append(m2[i:i+5])\n",
    "    return matriz\n",
    "\n",
    "\n",
    "\n",
    "m2=mat_produto(simetrica,2)\n",
    "mat=make_mat(m2)\n",
    "def imprimir_mat(matriz):\n",
    "    for i in mat:\n",
    "        for j in i:\n",
    "            print(j, end=' ')\n",
    "        print()\n",
    "imprimir_mat(mat)"
   ]
  },
  {
   "cell_type": "markdown",
   "id": "f7046273-0cac-4e59-8038-cbf0137749b4",
   "metadata": {},
   "source": [
    "#### 5 – Dada uma matriz pretende-se a matriz transposta (as linhas passam a ser as colunas)."
   ]
  },
  {
   "cell_type": "code",
   "execution_count": 14,
   "id": "5f7fe121-fb7a-43bc-b179-df53230c9aad",
   "metadata": {},
   "outputs": [
    {
     "name": "stdout",
     "output_type": "stream",
     "text": [
      "1 0 0 0 \n",
      "9 2 0 0 \n",
      "1 8 2 0 \n",
      "2 4 3 8 \n"
     ]
    }
   ],
   "source": [
    "def transposta():\n",
    "    m1=[[1,9,1,2], \n",
    "     [0,2,8,4], \n",
    "     [0,0,2,3], \n",
    "     [0,0,0,8]]\n",
    "    for i in range(len(m1)):\n",
    "        for j in range(i,len(m1[i])):\n",
    "            temp=m1[i][j]\n",
    "            m1[i][j]= m1[j][i]\n",
    "            m1[j][i]=temp\n",
    "    return m1\n",
    "trans=transposta()\n",
    "\n",
    "for i in trans:\n",
    "    for j in i:\n",
    "        print(j, end=' ')\n",
    "    print()"
   ]
  },
  {
   "cell_type": "markdown",
   "id": "34de557d-776a-4980-8eeb-afe0edd5e3a2",
   "metadata": {},
   "source": [
    "#### 6 – Dadas duas matrizes pretende-se a sua soma (têm de ter as mesmas dimensões)."
   ]
  },
  {
   "cell_type": "code",
   "execution_count": 20,
   "id": "f5e8288b-6f69-49ac-a4f2-d658bf7199c8",
   "metadata": {},
   "outputs": [
    {
     "name": "stdout",
     "output_type": "stream",
     "text": [
      "62 19 16 137 \n",
      "45 3 24 15 \n",
      "48 56 34 22 \n"
     ]
    }
   ],
   "source": [
    "m1=[[5,7,9,68],\n",
    "   [45,2,22,12],\n",
    "   [7,34,3,14]]\n",
    "m2=[[57,12,7,69],\n",
    "   [0,1,2,3],\n",
    "   [41,22,31,8]]\n",
    "\n",
    "def mat_soma(m1,m2):\n",
    "    m3=[]\n",
    "    for i in range(len(m1)):\n",
    "        colunas=[]\n",
    "        for j in range(len(m1[0])):\n",
    "            colunas.append((m1[i][j])+m2[i][j])\n",
    "        m3.append(colunas)\n",
    "    return m3\n",
    "mat_soma=mat_soma(m1,m2)\n",
    "for i in mat_soma:\n",
    "    for j in i:\n",
    "        print(j, end= ' ')\n",
    "    print()\n",
    "\n",
    "#print(mat_soma)"
   ]
  },
  {
   "cell_type": "code",
   "execution_count": null,
   "id": "d5a7e85b-7551-4e92-a94f-990b3f46b03c",
   "metadata": {},
   "outputs": [],
   "source": []
  }
 ],
 "metadata": {
  "kernelspec": {
   "display_name": "Python 3",
   "language": "python",
   "name": "python3"
  },
  "language_info": {
   "codemirror_mode": {
    "name": "ipython",
    "version": 3
   },
   "file_extension": ".py",
   "mimetype": "text/x-python",
   "name": "python",
   "nbconvert_exporter": "python",
   "pygments_lexer": "ipython3",
   "version": "3.8.8"
  }
 },
 "nbformat": 4,
 "nbformat_minor": 5
}
