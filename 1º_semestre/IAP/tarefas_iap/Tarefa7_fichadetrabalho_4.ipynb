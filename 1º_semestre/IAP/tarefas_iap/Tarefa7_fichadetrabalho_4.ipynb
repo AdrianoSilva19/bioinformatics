{
 "cells": [
  {
   "cell_type": "markdown",
   "id": "a23716d3-9e8a-4a1e-8df7-240abacc4c7a",
   "metadata": {},
   "source": [
    "# Ficha de trabalho 4\n",
    "## Estruturas de dados multi-valor"
   ]
  },
  {
   "cell_type": "markdown",
   "id": "ae848006-75bc-40f1-b5cc-cf0d8ccf07dc",
   "metadata": {},
   "source": [
    "Dado um conjunto de notas dos alunos de uma disciplina, calcular o número de notas superiores à nota média dessa disciplina."
   ]
  },
  {
   "cell_type": "code",
   "execution_count": 1,
   "id": "897f4d5a-e845-4283-9663-47eb4b364f46",
   "metadata": {},
   "outputs": [],
   "source": [
    "# ler as notas \n",
    "def le_notas(num):\n",
    "    lista = []   # lista = list()\n",
    "    for i in range(num):\n",
    "        nota = float(input(f\"nota do aluno {i+1}:\"))\n",
    "        lista.append(nota)\n",
    "        \n",
    "    return lista "
   ]
  },
  {
   "cell_type": "code",
   "execution_count": 2,
   "id": "f1be013b-c137-43f6-afbf-49cbe3032416",
   "metadata": {},
   "outputs": [],
   "source": [
    "# calcular a nota média \n",
    "def media_notas(notas):\n",
    "    soma = 0\n",
    "    for nota in notas:\n",
    "        soma += nota\n",
    "    return soma/len(notas)\n",
    "\n",
    "def media_notasv1 (notas):\n",
    "    media = 0\n",
    "    soma = 0 \n",
    "    n = len(notas)\n",
    "    for i in range(n):\n",
    "        soma = soma + notas[i]\n",
    "    media = soma/n\n",
    "    return media"
   ]
  },
  {
   "cell_type": "code",
   "execution_count": 3,
   "id": "6dc1c181-f85c-4cd3-a949-444d2008cf3a",
   "metadata": {},
   "outputs": [],
   "source": [
    "# calcular o número de notas superiores à média \n",
    "def sup_med(lista_notas):\n",
    "    sm = 0\n",
    "    media = media_notas(lista_notas)\n",
    "    for nota in lista_notas:\n",
    "        if nota > media:\n",
    "            sm += 1\n",
    "    return sm,media \n"
   ]
  },
  {
   "cell_type": "code",
   "execution_count": 4,
   "id": "74aec1ed-c8f1-4eb2-b791-d1a9fc82d082",
   "metadata": {},
   "outputs": [
    {
     "name": "stdin",
     "output_type": "stream",
     "text": [
      "quantos alunos tem a turma: 5\n",
      "nota do aluno 1: 20\n",
      "nota do aluno 2: 10\n",
      "nota do aluno 3: 15\n",
      "nota do aluno 4: 20\n",
      "nota do aluno 5: 10\n"
     ]
    },
    {
     "name": "stdout",
     "output_type": "stream",
     "text": [
      "[20.0, 10.0, 15.0, 20.0, 10.0]\n",
      "a turma com 5 alunos tem média de notas 15.0 e tem 2 alunos acima da média\n"
     ]
    }
   ],
   "source": [
    "#testar \n",
    "\n",
    "def teste ():\n",
    "    num_alunos = int(input(\"quantos alunos tem a turma:\"))\n",
    "    lista_notas = le_notas(num_alunos)\n",
    "    print(lista_notas)\n",
    "    superiores_media,media = sup_med(lista_notas)\n",
    "    print(f\"a turma com {num_alunos} alunos tem média de notas {media} e tem {superiores_media} alunos acima da média\")\n",
    "\n",
    "teste ()\n",
    "\n"
   ]
  },
  {
   "cell_type": "markdown",
   "id": "b1527681-5ac2-431f-a064-e662974c7034",
   "metadata": {},
   "source": []
  }
 ],
 "metadata": {
  "kernelspec": {
   "display_name": "Python 3",
   "language": "python",
   "name": "python3"
  },
  "language_info": {
   "codemirror_mode": {
    "name": "ipython",
    "version": 3
   },
   "file_extension": ".py",
   "mimetype": "text/x-python",
   "name": "python",
   "nbconvert_exporter": "python",
   "pygments_lexer": "ipython3",
   "version": "3.8.8"
  }
 },
 "nbformat": 4,
 "nbformat_minor": 5
}
