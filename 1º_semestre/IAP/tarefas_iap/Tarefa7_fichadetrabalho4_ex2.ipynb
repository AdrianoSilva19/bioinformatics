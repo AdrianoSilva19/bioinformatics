{
 "cells": [
  {
   "cell_type": "markdown",
   "id": "9a7d656b-185d-4841-b89b-db5c051a17db",
   "metadata": {
    "tags": []
   },
   "source": [
    "# Dados os valores mensais da produção duma fábrica de automóveis, calcular:\n",
    "a) os valores produzidos até cada mês, desde o início do ano (produção acumulada);\n",
    "\n",
    "b) a produção total no final do ano;\n",
    "\n",
    "c) o mês no qual foi alcançada metade da produção anual."
   ]
  },
  {
   "cell_type": "markdown",
   "id": "e5f145aa-5e76-45ba-b461-2006ccb02544",
   "metadata": {},
   "source": [
    "# a)"
   ]
  },
  {
   "cell_type": "code",
   "execution_count": 1,
   "id": "365e676f-80a1-45ed-ac65-4b4348df0041",
   "metadata": {},
   "outputs": [],
   "source": [
    "# ler os valores mensais de produção por ano\n",
    "\n",
    "def mes2ext(mes):\n",
    "    meses = ['jan','fev','mar','abr','mai','jun','jul','ago','set','out','nov','dez']\n",
    "    if mes < 1 or mes > 12:\n",
    "        return 'ERRO: não é mes valido!'\n",
    "    else:\n",
    "        return meses [mes-1]\n",
    "    \n",
    "def le_prod():\n",
    "    lista = []   # lista = list()\n",
    "    for i in range(1,13):\n",
    "        prodm = float(input(f\"produção de {mes2ext(i)}:\"))\n",
    "        lista.append(prodm)\n",
    "        \n",
    "    return lista "
   ]
  },
  {
   "cell_type": "code",
   "execution_count": 2,
   "id": "a979bf92-7ab6-4b43-adbf-d53eb91cb544",
   "metadata": {},
   "outputs": [],
   "source": [
    "# escrever valores acumulados ao longo do ano \n",
    "def escrever_valoresacumulados(lt_prodmensal):\n",
    "    acc = 0\n",
    "    for i in range(len(lt_prodmensal)):\n",
    "        acc+=lt_prodmensal[i]\n",
    "        print(f'produção acumulada até {mes2ext(i+1)} foi de:{acc}')\n",
    "    \n",
    "    return "
   ]
  },
  {
   "cell_type": "code",
   "execution_count": 3,
   "id": "3ae75e8a-69fd-48f9-9d01-beb05d92aa9e",
   "metadata": {},
   "outputs": [],
   "source": [
    "# produção total"
   ]
  },
  {
   "cell_type": "code",
   "execution_count": 4,
   "id": "4b6c4d82-c171-4575-83b3-e9941dda689b",
   "metadata": {},
   "outputs": [],
   "source": [
    "# metade da produção"
   ]
  },
  {
   "cell_type": "code",
   "execution_count": 5,
   "id": "466e8fb2-f97c-42eb-af20-65c2434a08a2",
   "metadata": {
    "tags": []
   },
   "outputs": [
    {
     "name": "stdin",
     "output_type": "stream",
     "text": [
      "produção de jan: 5\n",
      "produção de fev: 2\n",
      "produção de mar: 4\n",
      "produção de abr: 3\n",
      "produção de mai: 6\n",
      "produção de jun: 8\n",
      "produção de jul: 4\n",
      "produção de ago: 2\n",
      "produção de set: 1\n",
      "produção de out: 7\n",
      "produção de nov: 9\n",
      "produção de dez: 6\n"
     ]
    },
    {
     "name": "stdout",
     "output_type": "stream",
     "text": [
      "[5.0, 2.0, 4.0, 3.0, 6.0, 8.0, 4.0, 2.0, 1.0, 7.0, 9.0, 6.0]\n",
      "produção acumulada até jan foi de:5.0\n",
      "produção acumulada até fev foi de:7.0\n",
      "produção acumulada até mar foi de:11.0\n",
      "produção acumulada até abr foi de:14.0\n",
      "produção acumulada até mai foi de:20.0\n",
      "produção acumulada até jun foi de:28.0\n",
      "produção acumulada até jul foi de:32.0\n",
      "produção acumulada até ago foi de:34.0\n",
      "produção acumulada até set foi de:35.0\n",
      "produção acumulada até out foi de:42.0\n",
      "produção acumulada até nov foi de:51.0\n",
      "produção acumulada até dez foi de:57.0\n"
     ]
    }
   ],
   "source": [
    "# teste\n",
    "def teste ():\n",
    "    lista_prodmensal = le_prod()\n",
    "    print(lista_prodmensal)\n",
    "    escrever_valoresacumulados(lista_prodmensal)\n",
    "    \n",
    "teste ()\n",
    "\n"
   ]
  }
 ],
 "metadata": {
  "kernelspec": {
   "display_name": "Python 3",
   "language": "python",
   "name": "python3"
  },
  "language_info": {
   "codemirror_mode": {
    "name": "ipython",
    "version": 3
   },
   "file_extension": ".py",
   "mimetype": "text/x-python",
   "name": "python",
   "nbconvert_exporter": "python",
   "pygments_lexer": "ipython3",
   "version": "3.8.8"
  }
 },
 "nbformat": 4,
 "nbformat_minor": 5
}
